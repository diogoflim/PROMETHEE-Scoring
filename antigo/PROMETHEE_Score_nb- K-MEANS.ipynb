{
 "cells": [
  {
   "cell_type": "markdown",
   "metadata": {},
   "source": [
    "# Código para o método PROMETHEE-Score"
   ]
  },
  {
   "cell_type": "markdown",
   "metadata": {},
   "source": [
    "iniciarei importando algumas bibliotecas"
   ]
  },
  {
   "cell_type": "code",
   "execution_count": 1,
   "metadata": {},
   "outputs": [],
   "source": [
    "import numpy as np\n",
    "import pandas as pd\n",
    "import matplotlib.pyplot as plt\n",
    "\n",
    "%load_ext autoreload\n",
    "%autoreload 2\n",
    "\n",
    "from PROMETHEE import PROMETHEE_2"
   ]
  },
  {
   "cell_type": "code",
   "execution_count": 2,
   "metadata": {},
   "outputs": [
    {
     "data": {
      "text/plain": [
       "Property Rights           93.3\n",
       "Judical Effectiveness     75.3\n",
       "Government Integrity      83.8\n",
       "Tax Burden                93.1\n",
       "Gov't Spending            90.3\n",
       "Fiscal Health            100.0\n",
       "Business Freedom          96.4\n",
       "Labor Freedom             89.2\n",
       "Monetary Freedom          86.4\n",
       "Trade Freedom             95.0\n",
       "Investment Freedom        90.0\n",
       "Financial Freedom         90.0\n",
       "Name: Hong Kong, dtype: float64"
      ]
     },
     "execution_count": 2,
     "metadata": {},
     "output_type": "execute_result"
    }
   ],
   "source": [
    "dados = pd.read_excel(\"dados.xlsx\", index_col=0)\n",
    "dados = dados.dropna(axis=0)\n",
    "dados.loc[\"Hong Kong\"]"
   ]
  },
  {
   "cell_type": "code",
   "execution_count": 3,
   "metadata": {},
   "outputs": [],
   "source": [
    "X = np.array(dados) # decision matrix\n",
    "m, n = X.shape\n",
    "q = np.array([5 for j in range (n)]) # indiference thresholds vector\n",
    "p = np.array([10 for j in range (n)]) # preference thresholds vector\n",
    "s_curve = [0 for j in range (n)]\n",
    "pref = [5 for j in range (n)]\n",
    "w = np.random.dirichlet(np.ones(n),size=1).reshape(n) # weights"
   ]
  },
  {
   "cell_type": "code",
   "execution_count": 4,
   "metadata": {},
   "outputs": [],
   "source": [
    "# Aplica o PROMETHEE_2 ao nosso conjunto de dados\n",
    "\n",
    "net_flows = PROMETHEE_2(Decision_Matrix = X, q_thresholds=q, p_thresholds= p, scurve_thresholds = s_curve, weights = w, pref_functions= pref)[1]"
   ]
  },
  {
   "cell_type": "code",
   "execution_count": 5,
   "metadata": {},
   "outputs": [
    {
     "data": {
      "text/plain": [
       "0    0.864491\n",
       "Name: Hong Kong, dtype: float64"
      ]
     },
     "execution_count": 5,
     "metadata": {},
     "output_type": "execute_result"
    }
   ],
   "source": [
    "pd.DataFrame(net_flows, index=dados.index).loc[\"Hong Kong\"]"
   ]
  },
  {
   "cell_type": "markdown",
   "metadata": {},
   "source": [
    "### SMAA\n",
    "\n",
    "- Vamos agora rodar o PROMETHEE no mesmo conjunto de dados, porém, usaremos variáveis aleatórias."
   ]
  },
  {
   "cell_type": "code",
   "execution_count": 6,
   "metadata": {},
   "outputs": [
    {
     "name": "stdout",
     "output_type": "stream",
     "text": [
      "simulation 1 completed\n",
      "simulation 2 completed\n",
      "simulation 3 completed\n",
      "simulation 4 completed\n",
      "simulation 5 completed\n",
      "simulation 6 completed\n",
      "simulation 7 completed\n",
      "simulation 8 completed\n",
      "simulation 9 completed\n",
      "simulation 10 completed\n",
      "simulation 11 completed\n",
      "simulation 12 completed\n",
      "simulation 13 completed\n",
      "simulation 14 completed\n",
      "simulation 15 completed\n",
      "simulation 16 completed\n",
      "simulation 17 completed\n",
      "simulation 18 completed\n",
      "simulation 19 completed\n",
      "simulation 20 completed\n",
      "simulation 21 completed\n",
      "simulation 22 completed\n",
      "simulation 23 completed\n",
      "simulation 24 completed\n",
      "simulation 25 completed\n",
      "simulation 26 completed\n",
      "simulation 27 completed\n",
      "simulation 28 completed\n",
      "simulation 29 completed\n",
      "simulation 30 completed\n"
     ]
    }
   ],
   "source": [
    "n_simulations = 30\n",
    "\n",
    "W = np.zeros(shape = (n, n_simulations))\n",
    "P = np.zeros(shape = (n, n_simulations))\n",
    "Q = np.zeros(shape = (n, n_simulations))\n",
    "\n",
    "Net_Flows = np.zeros(shape = (m, n_simulations))\n",
    "Pos_Flows = np.zeros(shape = (m, n_simulations))\n",
    "Neg_Flows = np.zeros(shape = (m, n_simulations))\n",
    "results = [[] for s in range (n_simulations)]\n",
    "\n",
    "# Usaremos sempre a função de preferência do tipo 5\n",
    "s_curve = [0 for j in range (n)] \n",
    "pref = [5 for j in range (n)]\n",
    "\n",
    "for s in range (n_simulations):\n",
    "    W [:,s] = np.random.dirichlet(np.ones(n),size=1).reshape(n) # weights\n",
    "    Q [:,s] = np.random.uniform (2,6, n)\n",
    "    P [:,s] = np.random.uniform (8, 12, n)\n",
    "    results[s], Net_Flows[:,s], Pos_Flows[:,s], Neg_Flows[:,s] = PROMETHEE_2 (X, Q[:,s], P[:,s], s_curve, W[:,s], pref)\n",
    "    print (f'simulation {s+1} completed')"
   ]
  },
  {
   "cell_type": "code",
   "execution_count": 7,
   "metadata": {},
   "outputs": [
    {
     "data": {
      "text/plain": [
       "Index(['Sigma', 'Mu'], dtype='object')"
      ]
     },
     "execution_count": 7,
     "metadata": {},
     "output_type": "execute_result"
    }
   ],
   "source": [
    "mu_net = np.mean(Net_Flows, axis=1)\n",
    "sigma_net = np.std(Net_Flows, axis=1)\n",
    "\n",
    "#Construindo um DataFrame dos resultados\n",
    "Sigma_Mu_df = pd.DataFrame({\"Sigma\": sigma_net,\"Mu\": mu_net}, index= dados.index)\n",
    "Sigma_Mu_df.columns\n"
   ]
  },
  {
   "cell_type": "code",
   "execution_count": 8,
   "metadata": {},
   "outputs": [
    {
     "data": {
      "image/png": "[encoded data removed]",
      "text/plain": [
       "<Figure size 1152x864 with 1 Axes>"
      ]
     },
     "metadata": {
      "needs_background": "light"
     },
     "output_type": "display_data"
    }
   ],
   "source": [
    "from matplotlib import cm\n",
    "\n",
    "fig, ax = plt.subplots()\n",
    "\n",
    "cmap = cm.get_cmap('Spectral')\n",
    "\n",
    "Sigma_Mu_df.plot('Sigma', 'Mu', kind='scatter', ax=ax, figsize = (16,12))\n",
    "\n",
    "for k, v in Sigma_Mu_df.iterrows():\n",
    "    ax.annotate(k, v,\n",
    "                xytext=(10,-5), textcoords='offset points',\n",
    "                family='sans-serif', fontsize=8, color='black')"
   ]
  },
  {
   "cell_type": "code",
   "execution_count": 9,
   "metadata": {},
   "outputs": [
    {
     "name": "stderr",
     "output_type": "stream",
     "text": [
      "C:\\Users\\igor2\\anaconda3\\lib\\site-packages\\sklearn\\cluster\\_kmeans.py:870: FutureWarning: The default value of `n_init` will change from 10 to 'auto' in 1.4. Set the value of `n_init` explicitly to suppress the warning\n",
      "  warnings.warn(\n",
      "C:\\Users\\igor2\\anaconda3\\lib\\site-packages\\sklearn\\cluster\\_kmeans.py:1382: UserWarning: KMeans is known to have a memory leak on Windows with MKL, when there are less chunks than available threads. You can avoid it by setting the environment variable OMP_NUM_THREADS=1.\n",
      "  warnings.warn(\n"
     ]
    },
    {
     "data": {
      "text/html": [
       "<div>\n",
       "<style scoped>\n",
       "    .dataframe tbody tr th:only-of-type {\n",
       "        vertical-align: middle;\n",
       "    }\n",
       "\n",
       "    .dataframe tbody tr th {\n",
       "        vertical-align: top;\n",
       "    }\n",
       "\n",
       "    .dataframe thead th {\n",
       "        text-align: right;\n",
       "    }\n",
       "</style>\n",
       "<table border=\"1\" class=\"dataframe\">\n",
       "  <thead>\n",
       "    <tr style=\"text-align: right;\">\n",
       "      <th></th>\n",
       "      <th>Sigma</th>\n",
       "      <th>Mu</th>\n",
       "      <th>Category</th>\n",
       "    </tr>\n",
       "  </thead>\n",
       "  <tbody>\n",
       "    <tr>\n",
       "      <th>Afghanistan</th>\n",
       "      <td>0.147007</td>\n",
       "      <td>-0.276695</td>\n",
       "      <td>0</td>\n",
       "    </tr>\n",
       "    <tr>\n",
       "      <th>Albania</th>\n",
       "      <td>0.112378</td>\n",
       "      <td>0.164540</td>\n",
       "      <td>1</td>\n",
       "    </tr>\n",
       "    <tr>\n",
       "      <th>Algeria</th>\n",
       "      <td>0.060675</td>\n",
       "      <td>-0.440237</td>\n",
       "      <td>0</td>\n",
       "    </tr>\n",
       "    <tr>\n",
       "      <th>Angola</th>\n",
       "      <td>0.108216</td>\n",
       "      <td>-0.372014</td>\n",
       "      <td>0</td>\n",
       "    </tr>\n",
       "    <tr>\n",
       "      <th>Argentina</th>\n",
       "      <td>0.094706</td>\n",
       "      <td>-0.310699</td>\n",
       "      <td>0</td>\n",
       "    </tr>\n",
       "    <tr>\n",
       "      <th>...</th>\n",
       "      <td>...</td>\n",
       "      <td>...</td>\n",
       "      <td>...</td>\n",
       "    </tr>\n",
       "    <tr>\n",
       "      <th>Vanuatu</th>\n",
       "      <td>0.133642</td>\n",
       "      <td>-0.069670</td>\n",
       "      <td>3</td>\n",
       "    </tr>\n",
       "    <tr>\n",
       "      <th>Venezuela</th>\n",
       "      <td>0.073681</td>\n",
       "      <td>-0.807537</td>\n",
       "      <td>4</td>\n",
       "    </tr>\n",
       "    <tr>\n",
       "      <th>Vietnam</th>\n",
       "      <td>0.067805</td>\n",
       "      <td>-0.141470</td>\n",
       "      <td>3</td>\n",
       "    </tr>\n",
       "    <tr>\n",
       "      <th>Zambia</th>\n",
       "      <td>0.085998</td>\n",
       "      <td>-0.213390</td>\n",
       "      <td>0</td>\n",
       "    </tr>\n",
       "    <tr>\n",
       "      <th>Zimbabwe</th>\n",
       "      <td>0.075342</td>\n",
       "      <td>-0.647562</td>\n",
       "      <td>4</td>\n",
       "    </tr>\n",
       "  </tbody>\n",
       "</table>\n",
       "<p>180 rows × 3 columns</p>\n",
       "</div>"
      ],
      "text/plain": [
       "                Sigma        Mu  Category\n",
       "Afghanistan  0.147007 -0.276695         0\n",
       "Albania      0.112378  0.164540         1\n",
       "Algeria      0.060675 -0.440237         0\n",
       "Angola       0.108216 -0.372014         0\n",
       "Argentina    0.094706 -0.310699         0\n",
       "...               ...       ...       ...\n",
       "Vanuatu      0.133642 -0.069670         3\n",
       "Venezuela    0.073681 -0.807537         4\n",
       "Vietnam      0.067805 -0.141470         3\n",
       "Zambia       0.085998 -0.213390         0\n",
       "Zimbabwe     0.075342 -0.647562         4\n",
       "\n",
       "[180 rows x 3 columns]"
      ]
     },
     "execution_count": 9,
     "metadata": {},
     "output_type": "execute_result"
    }
   ],
   "source": [
    "# Possívei ideia de usar KMeans antes da otimização\n",
    "\n",
    "from sklearn.cluster import KMeans\n",
    "kmeans = KMeans(n_clusters=5, random_state=0).fit(Sigma_Mu_df)\n",
    "kmeans.labels_\n",
    "\n",
    "Sigma_Mu_df.assign(Category = kmeans.labels_)\n",
    "\n",
    "Sigma_Mu_df_clusters = Sigma_Mu_df.assign(Category = kmeans.labels_)\n",
    "Sigma_Mu_df_clusters\n"
   ]
  },
  {
   "cell_type": "code",
   "execution_count": 10,
   "metadata": {},
   "outputs": [],
   "source": [
    "Sigma_Mu_df_clusters.to_excel(\"Clusters.xlsx\")"
   ]
  },
  {
   "cell_type": "code",
   "execution_count": 11,
   "metadata": {},
   "outputs": [
    {
     "data": {
      "text/plain": [
       "array([[ 0.11286024, -0.32589202],\n",
       "       [ 0.10999676,  0.22300129],\n",
       "       [ 0.11217038,  0.49965696],\n",
       "       [ 0.11449343, -0.05909776],\n",
       "       [ 0.07585972, -0.74003501]])"
      ]
     },
     "execution_count": 11,
     "metadata": {},
     "output_type": "execute_result"
    }
   ],
   "source": [
    "A = kmeans.cluster_centers_\n",
    "A"
   ]
  },
  {
   "cell_type": "code",
   "execution_count": 12,
   "metadata": {},
   "outputs": [
    {
     "data": {
      "text/html": [
       "<div>\n",
       "<style scoped>\n",
       "    .dataframe tbody tr th:only-of-type {\n",
       "        vertical-align: middle;\n",
       "    }\n",
       "\n",
       "    .dataframe tbody tr th {\n",
       "        vertical-align: top;\n",
       "    }\n",
       "\n",
       "    .dataframe thead th {\n",
       "        text-align: right;\n",
       "    }\n",
       "</style>\n",
       "<table border=\"1\" class=\"dataframe\">\n",
       "  <thead>\n",
       "    <tr style=\"text-align: right;\">\n",
       "      <th></th>\n",
       "      <th>0</th>\n",
       "      <th>1</th>\n",
       "    </tr>\n",
       "  </thead>\n",
       "  <tbody>\n",
       "    <tr>\n",
       "      <th>0</th>\n",
       "      <td>0.112860</td>\n",
       "      <td>-0.325892</td>\n",
       "    </tr>\n",
       "    <tr>\n",
       "      <th>1</th>\n",
       "      <td>0.109997</td>\n",
       "      <td>0.223001</td>\n",
       "    </tr>\n",
       "    <tr>\n",
       "      <th>2</th>\n",
       "      <td>0.112170</td>\n",
       "      <td>0.499657</td>\n",
       "    </tr>\n",
       "    <tr>\n",
       "      <th>3</th>\n",
       "      <td>0.114493</td>\n",
       "      <td>-0.059098</td>\n",
       "    </tr>\n",
       "    <tr>\n",
       "      <th>4</th>\n",
       "      <td>0.075860</td>\n",
       "      <td>-0.740035</td>\n",
       "    </tr>\n",
       "  </tbody>\n",
       "</table>\n",
       "</div>"
      ],
      "text/plain": [
       "          0         1\n",
       "0  0.112860 -0.325892\n",
       "1  0.109997  0.223001\n",
       "2  0.112170  0.499657\n",
       "3  0.114493 -0.059098\n",
       "4  0.075860 -0.740035"
      ]
     },
     "execution_count": 12,
     "metadata": {},
     "output_type": "execute_result"
    }
   ],
   "source": [
    "A_df = pd.DataFrame(A)\n",
    "A_df"
   ]
  },
  {
   "cell_type": "markdown",
   "metadata": {},
   "source": [
    "### PKFs \n",
    "\n",
    "In the cell below, I'll obtain the PKFs for the Sigma-Mu plot "
   ]
  },
  {
   "cell_type": "code",
   "execution_count": 13,
   "metadata": {},
   "outputs": [],
   "source": [
    "df =A_df.copy()"
   ]
  },
  {
   "cell_type": "code",
   "execution_count": 14,
   "metadata": {},
   "outputs": [
    {
     "data": {
      "text/html": [
       "<div>\n",
       "<style scoped>\n",
       "    .dataframe tbody tr th:only-of-type {\n",
       "        vertical-align: middle;\n",
       "    }\n",
       "\n",
       "    .dataframe tbody tr th {\n",
       "        vertical-align: top;\n",
       "    }\n",
       "\n",
       "    .dataframe thead th {\n",
       "        text-align: right;\n",
       "    }\n",
       "</style>\n",
       "<table border=\"1\" class=\"dataframe\">\n",
       "  <thead>\n",
       "    <tr style=\"text-align: right;\">\n",
       "      <th></th>\n",
       "      <th>0</th>\n",
       "      <th>1</th>\n",
       "    </tr>\n",
       "  </thead>\n",
       "  <tbody>\n",
       "    <tr>\n",
       "      <th>0</th>\n",
       "      <td>0.112860</td>\n",
       "      <td>-0.325892</td>\n",
       "    </tr>\n",
       "    <tr>\n",
       "      <th>1</th>\n",
       "      <td>0.109997</td>\n",
       "      <td>0.223001</td>\n",
       "    </tr>\n",
       "    <tr>\n",
       "      <th>2</th>\n",
       "      <td>0.112170</td>\n",
       "      <td>0.499657</td>\n",
       "    </tr>\n",
       "    <tr>\n",
       "      <th>3</th>\n",
       "      <td>0.114493</td>\n",
       "      <td>-0.059098</td>\n",
       "    </tr>\n",
       "    <tr>\n",
       "      <th>4</th>\n",
       "      <td>0.075860</td>\n",
       "      <td>-0.740035</td>\n",
       "    </tr>\n",
       "  </tbody>\n",
       "</table>\n",
       "</div>"
      ],
      "text/plain": [
       "          0         1\n",
       "0  0.112860 -0.325892\n",
       "1  0.109997  0.223001\n",
       "2  0.112170  0.499657\n",
       "3  0.114493 -0.059098\n",
       "4  0.075860 -0.740035"
      ]
     },
     "execution_count": 14,
     "metadata": {},
     "output_type": "execute_result"
    }
   ],
   "source": [
    "df"
   ]
  },
  {
   "cell_type": "code",
   "execution_count": 15,
   "metadata": {},
   "outputs": [
    {
     "name": "stdout",
     "output_type": "stream",
     "text": [
      "PKF_1: [1, 2, 4]\n",
      "PKF_2: [0, 3]\n"
     ]
    }
   ],
   "source": [
    "df =A_df.copy()\n",
    "PKF=[]\n",
    "count=0\n",
    "while df.shape[0]>0:\n",
    "    PKF.append([])\n",
    "    for idx in df.index:\n",
    "        comp_df = df.copy()\n",
    "        comp_df.drop(index = idx)\n",
    "        if any([any([\n",
    "                ((df.loc[idx][0] > comp_df.iloc[i,0]) and (df.loc[idx][1] < comp_df.iloc[i,1])), # loose in both dimensions\n",
    "                ((df.loc[idx][0] > comp_df.iloc[i,0]) and (df.loc[idx][1] == comp_df.iloc[i,1])), # loose in first dimension and drow in second\n",
    "                ((df.loc[idx][0] == comp_df.iloc[i,0]) and (df.loc[idx][1] < comp_df.iloc[i,1])) # loose in the second dimension \n",
    "                    ]) for i in range (comp_df.shape[0])]\n",
    "                ) == False:\n",
    "            PKF[count].append(idx)\n",
    "    \n",
    "    if len(PKF[count]) == 0:\n",
    "        PKF[count].append(df.index)\n",
    "        break\n",
    "    else:\n",
    "        df = df.drop(index=PKF[count])\n",
    "        print(f'PKF_{str(count+1)}: {PKF[count]}')\n",
    "        count+=1\n",
    "\n"
   ]
  },
  {
   "cell_type": "markdown",
   "metadata": {},
   "source": [
    "### Otimização\n",
    "\n",
    "O Score das alternativas é obtido através de um modelo de otimização linear."
   ]
  },
  {
   "cell_type": "code",
   "execution_count": 16,
   "metadata": {},
   "outputs": [
    {
     "name": "stdout",
     "output_type": "stream",
     "text": [
      "alternative 1, fronteira 1: resolvido.\n",
      "alternative 1, fronteira 2: resolvido.\n",
      "alternative 2, fronteira 1: resolvido.\n",
      "alternative 2, fronteira 2: resolvido.\n",
      "alternative 3, fronteira 1: resolvido.\n",
      "alternative 3, fronteira 2: resolvido.\n",
      "alternative 4, fronteira 1: resolvido.\n",
      "alternative 4, fronteira 2: resolvido.\n",
      "alternative 5, fronteira 1: resolvido.\n",
      "alternative 5, fronteira 2: resolvido.\n"
     ]
    }
   ],
   "source": [
    "from PROMETHEE import optimize_PROM2_original, optimize_newconstraint\n",
    "\n",
    "m = A_df.shape[0] # number of alternatives\n",
    "m_f = len(PKF) # number of frontiers\n",
    "local_ef = np.zeros(shape = (A_df.shape[0], len(PKF)))\n",
    "local_ef_new = np.zeros(shape = (A_df.shape[0], len(PKF)))\n",
    "\n",
    "for unit in range (m):\n",
    "    for fr in range (m_f):\n",
    "        unit_sigmamu = np.array([A_df.iloc[unit]]) # get the alternative unit\n",
    "        \n",
    "        Fr_list = [] # list of alternatives within frontier fr or within a less preferred one\n",
    "        for k in range(fr, m_f):\n",
    "            for l in range(len(PKF[k])):\n",
    "                Fr_list.append(PKF[k][l])\n",
    "        Fr_sigmamu = np.array (A_df.loc[Fr_list]) # get alternatives within frontier fr or a less preferred one\n",
    "        \n",
    "        \n",
    "        M, resultado = optimize_PROM2_original(unit_sigmamu, Fr_sigmamu)\n",
    "        local_ef[unit, fr] = M.obj()\n",
    "\n",
    "        M_new, resultado_new = optimize_newconstraint(unit_sigmamu, Fr_sigmamu)\n",
    "        local_ef_new[unit, fr] = M_new.obj()\n",
    "        \n",
    "        print(f'alternative {unit+1}, fronteira {fr + 1}: resolvido.')\n",
    "        \n"
   ]
  },
  {
   "cell_type": "code",
   "execution_count": 17,
   "metadata": {},
   "outputs": [
    {
     "data": {
      "text/plain": [
       "Global Efficiency    0.037001\n",
       "Position             3.000000\n",
       "Name: 4, dtype: float64"
      ]
     },
     "execution_count": 17,
     "metadata": {},
     "output_type": "execute_result"
    }
   ],
   "source": [
    "global_ef = np.sum(local_ef, axis = 1)\n",
    "results = pd.DataFrame({\"Global Efficiency\": global_ef}, index = A_df.index).sort_values(\"Global Efficiency\", ascending = False)\n",
    "results = results.assign(Position = [i+1 for i in range(results.shape[0])])\n",
    "results.loc[4]"
   ]
  },
  {
   "cell_type": "code",
   "execution_count": 18,
   "metadata": {},
   "outputs": [],
   "source": [
    "#global_ef_new = np.sum(local_ef_new, axis = 1)\n",
    "#results_new = pd.DataFrame({\"Global Efficiency\": global_ef_new}, index = Sigma_Mu_df.index).sort_values(\"Global Efficiency\", ascending = False)\n",
    "#results_new = results_new.assign(Position = [i+1 for i in range(results.shape[0])])\n",
    "#results_new.loc[\"Korea, North \"]"
   ]
  },
  {
   "cell_type": "markdown",
   "metadata": {},
   "source": [
    "# DADOS TCC TUANY"
   ]
  },
  {
   "cell_type": "code",
   "execution_count": 19,
   "metadata": {},
   "outputs": [
    {
     "data": {
      "text/plain": [
       "Economic Quality                    47.953634\n",
       "Education                           59.270767\n",
       "Enterprise Conditions               47.827354\n",
       "Governance                          51.796293\n",
       "Health                              72.023236\n",
       "Infrastructure and Market Access    54.907069\n",
       "Investment Environment              56.183145\n",
       "Living Conditions                   80.422237\n",
       "Natural Environment                 67.827058\n",
       "Personal Freedom                    66.955451\n",
       "Safety and Security                 61.247103\n",
       "Social Capital                      48.436590\n",
       "Name: Brazil, dtype: float64"
      ]
     },
     "execution_count": 19,
     "metadata": {},
     "output_type": "execute_result"
    }
   ],
   "source": [
    "dados = pd.read_excel(\"dados_TCC.xlsx\", index_col=0)\n",
    "dados = dados.dropna(axis=0)\n",
    "dados.loc[\"Brazil\"]\n"
   ]
  },
  {
   "cell_type": "code",
   "execution_count": 20,
   "metadata": {},
   "outputs": [],
   "source": [
    "X = np.array(dados) # decision matrix\n",
    "m, n = X.shape\n",
    "q = np.array([5 for j in range (n)]) # indiference thresholds vector\n",
    "p = np.array([10 for j in range (n)]) # preference thresholds vector\n",
    "s_curve = [0 for j in range (n)]\n",
    "pref = [5 for j in range (n)]\n",
    "w = np.random.dirichlet(np.ones(n),size=1).reshape(n) # weights"
   ]
  },
  {
   "cell_type": "code",
   "execution_count": 21,
   "metadata": {},
   "outputs": [],
   "source": [
    "# Aplica o PROMETHEE_2 ao nosso conjunto de dados\n",
    "\n",
    "net_flows = PROMETHEE_2(Decision_Matrix = X, q_thresholds=q, p_thresholds= p, scurve_thresholds = s_curve, weights = w, pref_functions= pref)[1]"
   ]
  },
  {
   "cell_type": "code",
   "execution_count": 22,
   "metadata": {},
   "outputs": [
    {
     "data": {
      "text/plain": [
       "0   -0.09771\n",
       "Name: Brazil, dtype: float64"
      ]
     },
     "execution_count": 22,
     "metadata": {},
     "output_type": "execute_result"
    }
   ],
   "source": [
    "pd.DataFrame(net_flows, index=dados.index).loc[\"Brazil\"]"
   ]
  },
  {
   "cell_type": "code",
   "execution_count": 23,
   "metadata": {},
   "outputs": [
    {
     "name": "stdout",
     "output_type": "stream",
     "text": [
      "simulation 1 completed\n",
      "simulation 2 completed\n",
      "simulation 3 completed\n",
      "simulation 4 completed\n",
      "simulation 5 completed\n",
      "simulation 6 completed\n",
      "simulation 7 completed\n",
      "simulation 8 completed\n",
      "simulation 9 completed\n",
      "simulation 10 completed\n",
      "simulation 11 completed\n",
      "simulation 12 completed\n",
      "simulation 13 completed\n",
      "simulation 14 completed\n",
      "simulation 15 completed\n",
      "simulation 16 completed\n",
      "simulation 17 completed\n",
      "simulation 18 completed\n",
      "simulation 19 completed\n",
      "simulation 20 completed\n",
      "simulation 21 completed\n",
      "simulation 22 completed\n",
      "simulation 23 completed\n",
      "simulation 24 completed\n",
      "simulation 25 completed\n",
      "simulation 26 completed\n",
      "simulation 27 completed\n",
      "simulation 28 completed\n",
      "simulation 29 completed\n",
      "simulation 30 completed\n"
     ]
    }
   ],
   "source": [
    "n_simulations = 30\n",
    "\n",
    "W = np.zeros(shape = (n, n_simulations))\n",
    "P = np.zeros(shape = (n, n_simulations))\n",
    "Q = np.zeros(shape = (n, n_simulations))\n",
    "\n",
    "Net_Flows = np.zeros(shape = (m, n_simulations))\n",
    "Pos_Flows = np.zeros(shape = (m, n_simulations))\n",
    "Neg_Flows = np.zeros(shape = (m, n_simulations))\n",
    "results = [[] for s in range (n_simulations)]\n",
    "\n",
    "# Usaremos sempre a função de preferência do tipo 5\n",
    "s_curve = [0 for j in range (n)] \n",
    "pref = [5 for j in range (n)]\n",
    "\n",
    "for s in range (n_simulations):\n",
    "    W [:,s] = np.random.dirichlet(np.ones(n),size=1).reshape(n) # weights\n",
    "    Q [:,s] = np.random.uniform (2,6, n)\n",
    "    P [:,s] = np.random.uniform (8, 12, n)\n",
    "    results[s], Net_Flows[:,s], Pos_Flows[:,s], Neg_Flows[:,s] = PROMETHEE_2 (X, Q[:,s], P[:,s], s_curve, W[:,s], pref)\n",
    "    print (f'simulation {s+1} completed')"
   ]
  },
  {
   "cell_type": "code",
   "execution_count": 24,
   "metadata": {},
   "outputs": [
    {
     "data": {
      "text/plain": [
       "Index(['Sigma', 'Mu'], dtype='object')"
      ]
     },
     "execution_count": 24,
     "metadata": {},
     "output_type": "execute_result"
    }
   ],
   "source": [
    "mu_net = np.mean(Net_Flows, axis=1)\n",
    "sigma_net = np.std(Net_Flows, axis=1)\n",
    "\n",
    "#Construindo um DataFrame dos resultados\n",
    "Sigma_Mu_df = pd.DataFrame({\"Sigma\": sigma_net,\"Mu\": mu_net}, index= dados.index)\n",
    "Sigma_Mu_df.columns"
   ]
  },
  {
   "cell_type": "code",
   "execution_count": 25,
   "metadata": {},
   "outputs": [
    {
     "data": {
      "image/png": "[encoded data removed]",
      "text/plain": [
       "<Figure size 1152x864 with 1 Axes>"
      ]
     },
     "metadata": {
      "needs_background": "light"
     },
     "output_type": "display_data"
    }
   ],
   "source": [
    "from matplotlib import cm\n",
    "\n",
    "fig, ax = plt.subplots()\n",
    "\n",
    "cmap = cm.get_cmap('Spectral')\n",
    "\n",
    "Sigma_Mu_df.plot('Sigma', 'Mu', kind='scatter', ax=ax, figsize = (16,12))\n",
    "\n",
    "for k, v in Sigma_Mu_df.iterrows():\n",
    "    ax.annotate(k, v,\n",
    "                xytext=(10,-5), textcoords='offset points',\n",
    "                family='sans-serif', fontsize=8, color='black')"
   ]
  },
  {
   "cell_type": "code",
   "execution_count": 26,
   "metadata": {},
   "outputs": [
    {
     "name": "stderr",
     "output_type": "stream",
     "text": [
      "C:\\Users\\igor2\\anaconda3\\lib\\site-packages\\sklearn\\cluster\\_kmeans.py:870: FutureWarning: The default value of `n_init` will change from 10 to 'auto' in 1.4. Set the value of `n_init` explicitly to suppress the warning\n",
      "  warnings.warn(\n",
      "C:\\Users\\igor2\\anaconda3\\lib\\site-packages\\sklearn\\cluster\\_kmeans.py:1382: UserWarning: KMeans is known to have a memory leak on Windows with MKL, when there are less chunks than available threads. You can avoid it by setting the environment variable OMP_NUM_THREADS=1.\n",
      "  warnings.warn(\n"
     ]
    },
    {
     "data": {
      "text/html": [
       "<div>\n",
       "<style scoped>\n",
       "    .dataframe tbody tr th:only-of-type {\n",
       "        vertical-align: middle;\n",
       "    }\n",
       "\n",
       "    .dataframe tbody tr th {\n",
       "        vertical-align: top;\n",
       "    }\n",
       "\n",
       "    .dataframe thead th {\n",
       "        text-align: right;\n",
       "    }\n",
       "</style>\n",
       "<table border=\"1\" class=\"dataframe\">\n",
       "  <thead>\n",
       "    <tr style=\"text-align: right;\">\n",
       "      <th></th>\n",
       "      <th>Sigma</th>\n",
       "      <th>Mu</th>\n",
       "      <th>Category</th>\n",
       "    </tr>\n",
       "  </thead>\n",
       "  <tbody>\n",
       "    <tr>\n",
       "      <th>Afghanistan</th>\n",
       "      <td>0.029740</td>\n",
       "      <td>-0.772823</td>\n",
       "      <td>1</td>\n",
       "    </tr>\n",
       "    <tr>\n",
       "      <th>Albania</th>\n",
       "      <td>0.057544</td>\n",
       "      <td>0.052799</td>\n",
       "      <td>0</td>\n",
       "    </tr>\n",
       "    <tr>\n",
       "      <th>Algeria</th>\n",
       "      <td>0.067131</td>\n",
       "      <td>-0.267203</td>\n",
       "      <td>3</td>\n",
       "    </tr>\n",
       "    <tr>\n",
       "      <th>Angola</th>\n",
       "      <td>0.059125</td>\n",
       "      <td>-0.661682</td>\n",
       "      <td>1</td>\n",
       "    </tr>\n",
       "    <tr>\n",
       "      <th>Argentina</th>\n",
       "      <td>0.086765</td>\n",
       "      <td>0.098734</td>\n",
       "      <td>0</td>\n",
       "    </tr>\n",
       "    <tr>\n",
       "      <th>...</th>\n",
       "      <td>...</td>\n",
       "      <td>...</td>\n",
       "      <td>...</td>\n",
       "    </tr>\n",
       "    <tr>\n",
       "      <th>Venezuela</th>\n",
       "      <td>0.109017</td>\n",
       "      <td>-0.495805</td>\n",
       "      <td>1</td>\n",
       "    </tr>\n",
       "    <tr>\n",
       "      <th>Vietnam</th>\n",
       "      <td>0.090737</td>\n",
       "      <td>0.060006</td>\n",
       "      <td>0</td>\n",
       "    </tr>\n",
       "    <tr>\n",
       "      <th>Yemen</th>\n",
       "      <td>0.028038</td>\n",
       "      <td>-0.805510</td>\n",
       "      <td>1</td>\n",
       "    </tr>\n",
       "    <tr>\n",
       "      <th>Zambia</th>\n",
       "      <td>0.077715</td>\n",
       "      <td>-0.351085</td>\n",
       "      <td>3</td>\n",
       "    </tr>\n",
       "    <tr>\n",
       "      <th>Zimbabwe</th>\n",
       "      <td>0.044048</td>\n",
       "      <td>-0.566248</td>\n",
       "      <td>1</td>\n",
       "    </tr>\n",
       "  </tbody>\n",
       "</table>\n",
       "<p>167 rows × 3 columns</p>\n",
       "</div>"
      ],
      "text/plain": [
       "                Sigma        Mu  Category\n",
       "Afghanistan  0.029740 -0.772823         1\n",
       "Albania      0.057544  0.052799         0\n",
       "Algeria      0.067131 -0.267203         3\n",
       "Angola       0.059125 -0.661682         1\n",
       "Argentina    0.086765  0.098734         0\n",
       "...               ...       ...       ...\n",
       "Venezuela    0.109017 -0.495805         1\n",
       "Vietnam      0.090737  0.060006         0\n",
       "Yemen        0.028038 -0.805510         1\n",
       "Zambia       0.077715 -0.351085         3\n",
       "Zimbabwe     0.044048 -0.566248         1\n",
       "\n",
       "[167 rows x 3 columns]"
      ]
     },
     "execution_count": 26,
     "metadata": {},
     "output_type": "execute_result"
    }
   ],
   "source": [
    "# Possívei ideia de usar KMeans antes da otimização\n",
    "\n",
    "from sklearn.cluster import KMeans\n",
    "kmeans = KMeans(n_clusters=5, random_state=0).fit(Sigma_Mu_df)\n",
    "kmeans.labels_\n",
    "\n",
    "Sigma_Mu_df.assign(Category = kmeans.labels_)\n",
    "\n",
    "Sigma_Mu_df_clusters = Sigma_Mu_df.assign(Category = kmeans.labels_)\n",
    "Sigma_Mu_df_clusters"
   ]
  },
  {
   "cell_type": "code",
   "execution_count": 27,
   "metadata": {},
   "outputs": [],
   "source": [
    "Sigma_Mu_df_clusters.to_excel(\"ClustersLegatum.xlsx\")"
   ]
  },
  {
   "cell_type": "code",
   "execution_count": 28,
   "metadata": {},
   "outputs": [
    {
     "data": {
      "text/plain": [
       "array([[ 0.07980167,  0.0302095 ],\n",
       "       [ 0.06644898, -0.60165889],\n",
       "       [ 0.04067354,  0.73158835],\n",
       "       [ 0.07696689, -0.2794402 ],\n",
       "       [ 0.06445706,  0.40321769]])"
      ]
     },
     "execution_count": 28,
     "metadata": {},
     "output_type": "execute_result"
    }
   ],
   "source": [
    "A = kmeans.cluster_centers_\n",
    "A"
   ]
  },
  {
   "cell_type": "code",
   "execution_count": 29,
   "metadata": {},
   "outputs": [
    {
     "data": {
      "text/html": [
       "<div>\n",
       "<style scoped>\n",
       "    .dataframe tbody tr th:only-of-type {\n",
       "        vertical-align: middle;\n",
       "    }\n",
       "\n",
       "    .dataframe tbody tr th {\n",
       "        vertical-align: top;\n",
       "    }\n",
       "\n",
       "    .dataframe thead th {\n",
       "        text-align: right;\n",
       "    }\n",
       "</style>\n",
       "<table border=\"1\" class=\"dataframe\">\n",
       "  <thead>\n",
       "    <tr style=\"text-align: right;\">\n",
       "      <th></th>\n",
       "      <th>0</th>\n",
       "      <th>1</th>\n",
       "    </tr>\n",
       "  </thead>\n",
       "  <tbody>\n",
       "    <tr>\n",
       "      <th>0</th>\n",
       "      <td>0.079802</td>\n",
       "      <td>0.030210</td>\n",
       "    </tr>\n",
       "    <tr>\n",
       "      <th>1</th>\n",
       "      <td>0.066449</td>\n",
       "      <td>-0.601659</td>\n",
       "    </tr>\n",
       "    <tr>\n",
       "      <th>2</th>\n",
       "      <td>0.040674</td>\n",
       "      <td>0.731588</td>\n",
       "    </tr>\n",
       "    <tr>\n",
       "      <th>3</th>\n",
       "      <td>0.076967</td>\n",
       "      <td>-0.279440</td>\n",
       "    </tr>\n",
       "    <tr>\n",
       "      <th>4</th>\n",
       "      <td>0.064457</td>\n",
       "      <td>0.403218</td>\n",
       "    </tr>\n",
       "  </tbody>\n",
       "</table>\n",
       "</div>"
      ],
      "text/plain": [
       "          0         1\n",
       "0  0.079802  0.030210\n",
       "1  0.066449 -0.601659\n",
       "2  0.040674  0.731588\n",
       "3  0.076967 -0.279440\n",
       "4  0.064457  0.403218"
      ]
     },
     "execution_count": 29,
     "metadata": {},
     "output_type": "execute_result"
    }
   ],
   "source": [
    "A_df = pd.DataFrame(A)\n",
    "A_df"
   ]
  },
  {
   "cell_type": "code",
   "execution_count": 30,
   "metadata": {},
   "outputs": [],
   "source": [
    "df =A_df.copy()"
   ]
  },
  {
   "cell_type": "code",
   "execution_count": 31,
   "metadata": {},
   "outputs": [
    {
     "data": {
      "text/html": [
       "<div>\n",
       "<style scoped>\n",
       "    .dataframe tbody tr th:only-of-type {\n",
       "        vertical-align: middle;\n",
       "    }\n",
       "\n",
       "    .dataframe tbody tr th {\n",
       "        vertical-align: top;\n",
       "    }\n",
       "\n",
       "    .dataframe thead th {\n",
       "        text-align: right;\n",
       "    }\n",
       "</style>\n",
       "<table border=\"1\" class=\"dataframe\">\n",
       "  <thead>\n",
       "    <tr style=\"text-align: right;\">\n",
       "      <th></th>\n",
       "      <th>0</th>\n",
       "      <th>1</th>\n",
       "    </tr>\n",
       "  </thead>\n",
       "  <tbody>\n",
       "    <tr>\n",
       "      <th>0</th>\n",
       "      <td>0.079802</td>\n",
       "      <td>0.030210</td>\n",
       "    </tr>\n",
       "    <tr>\n",
       "      <th>1</th>\n",
       "      <td>0.066449</td>\n",
       "      <td>-0.601659</td>\n",
       "    </tr>\n",
       "    <tr>\n",
       "      <th>2</th>\n",
       "      <td>0.040674</td>\n",
       "      <td>0.731588</td>\n",
       "    </tr>\n",
       "    <tr>\n",
       "      <th>3</th>\n",
       "      <td>0.076967</td>\n",
       "      <td>-0.279440</td>\n",
       "    </tr>\n",
       "    <tr>\n",
       "      <th>4</th>\n",
       "      <td>0.064457</td>\n",
       "      <td>0.403218</td>\n",
       "    </tr>\n",
       "  </tbody>\n",
       "</table>\n",
       "</div>"
      ],
      "text/plain": [
       "          0         1\n",
       "0  0.079802  0.030210\n",
       "1  0.066449 -0.601659\n",
       "2  0.040674  0.731588\n",
       "3  0.076967 -0.279440\n",
       "4  0.064457  0.403218"
      ]
     },
     "execution_count": 31,
     "metadata": {},
     "output_type": "execute_result"
    }
   ],
   "source": [
    "df"
   ]
  },
  {
   "cell_type": "code",
   "execution_count": 32,
   "metadata": {},
   "outputs": [
    {
     "name": "stdout",
     "output_type": "stream",
     "text": [
      "PKF_1: [2]\n",
      "PKF_2: [4]\n",
      "PKF_3: [0, 1, 3]\n"
     ]
    }
   ],
   "source": [
    "df =A_df.copy()\n",
    "PKF=[]\n",
    "count=0\n",
    "while df.shape[0]>0:\n",
    "    PKF.append([])\n",
    "    for idx in df.index:\n",
    "        comp_df = df.copy()\n",
    "        comp_df.drop(index = idx)\n",
    "        if any([any([\n",
    "                ((df.loc[idx][0] > comp_df.iloc[i,0]) and (df.loc[idx][1] < comp_df.iloc[i,1])), # loose in both dimensions\n",
    "                ((df.loc[idx][0] > comp_df.iloc[i,0]) and (df.loc[idx][1] == comp_df.iloc[i,1])), # loose in first dimension and drow in second\n",
    "                ((df.loc[idx][0] == comp_df.iloc[i,0]) and (df.loc[idx][1] < comp_df.iloc[i,1])) # loose in the second dimension \n",
    "                    ]) for i in range (comp_df.shape[0])]\n",
    "                ) == False:\n",
    "            PKF[count].append(idx)\n",
    "    \n",
    "    if len(PKF[count]) == 0:\n",
    "        PKF[count].append(df.index)\n",
    "        break\n",
    "    else:\n",
    "        df = df.drop(index=PKF[count])\n",
    "        print(f'PKF_{str(count+1)}: {PKF[count]}')\n",
    "        count+=1\n"
   ]
  },
  {
   "cell_type": "code",
   "execution_count": 33,
   "metadata": {},
   "outputs": [
    {
     "name": "stdout",
     "output_type": "stream",
     "text": [
      "alternative 1, fronteira 1: resolvido.\n",
      "alternative 1, fronteira 2: resolvido.\n",
      "alternative 1, fronteira 3: resolvido.\n",
      "alternative 2, fronteira 1: resolvido.\n",
      "alternative 2, fronteira 2: resolvido.\n",
      "alternative 2, fronteira 3: resolvido.\n",
      "alternative 3, fronteira 1: resolvido.\n",
      "alternative 3, fronteira 2: resolvido.\n",
      "alternative 3, fronteira 3: resolvido.\n",
      "alternative 4, fronteira 1: resolvido.\n",
      "alternative 4, fronteira 2: resolvido.\n",
      "alternative 4, fronteira 3: resolvido.\n",
      "alternative 5, fronteira 1: resolvido.\n",
      "alternative 5, fronteira 2: resolvido.\n",
      "alternative 5, fronteira 3: resolvido.\n"
     ]
    }
   ],
   "source": [
    "from PROMETHEE import optimize_PROM2_original, optimize_newconstraint\n",
    "\n",
    "m = A_df.shape[0] # number of alternatives\n",
    "m_f = len(PKF) # number of frontiers\n",
    "local_ef = np.zeros(shape = (A_df.shape[0], len(PKF)))\n",
    "local_ef_new = np.zeros(shape = (A_df.shape[0], len(PKF)))\n",
    "\n",
    "for unit in range (m):\n",
    "    for fr in range (m_f):\n",
    "        unit_sigmamu = np.array([A_df.iloc[unit]]) # get the alternative unit\n",
    "        \n",
    "        Fr_list = [] # list of alternatives within frontier fr or within a less preferred one\n",
    "        for k in range(fr, m_f):\n",
    "            for l in range(len(PKF[k])):\n",
    "                Fr_list.append(PKF[k][l])\n",
    "        Fr_sigmamu = np.array (A_df.loc[Fr_list]) # get alternatives within frontier fr or a less preferred one\n",
    "        \n",
    "        \n",
    "        M, resultado = optimize_PROM2_original(unit_sigmamu, Fr_sigmamu)\n",
    "        local_ef[unit, fr] = M.obj()\n",
    "\n",
    "        M_new, resultado_new = optimize_newconstraint(unit_sigmamu, Fr_sigmamu)\n",
    "        local_ef_new[unit, fr] = M_new.obj()\n",
    "        \n",
    "        print(f'alternative {unit+1}, fronteira {fr + 1}: resolvido.')\n",
    "        "
   ]
  },
  {
   "cell_type": "code",
   "execution_count": 34,
   "metadata": {},
   "outputs": [
    {
     "data": {
      "text/plain": [
       "Global Efficiency   -0.027767\n",
       "Position             3.000000\n",
       "Name: 1, dtype: float64"
      ]
     },
     "execution_count": 34,
     "metadata": {},
     "output_type": "execute_result"
    }
   ],
   "source": [
    "global_ef = np.sum(local_ef, axis = 1)\n",
    "results = pd.DataFrame({\"Global Efficiency\": global_ef}, index = A_df.index).sort_values(\"Global Efficiency\", ascending = False)\n",
    "results = results.assign(Position = [i+1 for i in range(results.shape[0])])\n",
    "results.loc[1]"
   ]
  },
  {
   "cell_type": "code",
   "execution_count": 25,
   "metadata": {},
   "outputs": [
    {
     "data": {
      "text/plain": [
       "Global Efficiency    -21.974838\n",
       "Position             167.000000\n",
       "Name: South Sudan, dtype: float64"
      ]
     },
     "execution_count": 25,
     "metadata": {},
     "output_type": "execute_result"
    }
   ],
   "source": [
    "#global_ef_new = np.sum(local_ef_new, axis = 1)\n",
    "#results_new = pd.DataFrame({\"Global Efficiency\": global_ef_new}, index = Sigma_Mu_df.index).sort_values(\"Global Efficiency\", ascending = False)\n",
    "#results_new = results_new.assign(Position = [i+1 for i in range(results.shape[0])])\n",
    "#results_new.loc[\"South Sudan\"]"
   ]
  },
  {
   "cell_type": "code",
   "execution_count": 35,
   "metadata": {},
   "outputs": [],
   "source": [
    "#PROMETHEE I PARA FLUXO POSITIVO"
   ]
  },
  {
   "cell_type": "code",
   "execution_count": 36,
   "metadata": {},
   "outputs": [],
   "source": [
    "X = np.array(dados) # decision matrix\n",
    "m, n = X.shape\n",
    "q = np.array([5 for j in range (n)]) # indiference thresholds vector\n",
    "p = np.array([10 for j in range (n)]) # preference thresholds vector\n",
    "s_curve = [0 for j in range (n)]\n",
    "pref = [5 for j in range (n)]\n",
    "w = np.random.dirichlet(np.ones(n),size=1).reshape(n) # weights"
   ]
  },
  {
   "cell_type": "code",
   "execution_count": 37,
   "metadata": {},
   "outputs": [],
   "source": [
    "# Aplica o PROMETHEE_1 ao nosso conjunto de dados\n",
    "\n",
    "pos_flows = PROMETHEE_2(Decision_Matrix = X, q_thresholds=q, p_thresholds= p, scurve_thresholds = s_curve, weights = w, pref_functions= pref)[2]\n"
   ]
  },
  {
   "cell_type": "code",
   "execution_count": 38,
   "metadata": {},
   "outputs": [
    {
     "data": {
      "text/plain": [
       "0    0.413397\n",
       "Name: Brazil, dtype: float64"
      ]
     },
     "execution_count": 38,
     "metadata": {},
     "output_type": "execute_result"
    }
   ],
   "source": [
    "pd.DataFrame(pos_flows, index=dados.index).loc[\"Brazil\"]"
   ]
  },
  {
   "cell_type": "code",
   "execution_count": 39,
   "metadata": {},
   "outputs": [
    {
     "name": "stdout",
     "output_type": "stream",
     "text": [
      "simulation 1 completed\n",
      "simulation 2 completed\n",
      "simulation 3 completed\n",
      "simulation 4 completed\n",
      "simulation 5 completed\n",
      "simulation 6 completed\n",
      "simulation 7 completed\n",
      "simulation 8 completed\n",
      "simulation 9 completed\n",
      "simulation 10 completed\n",
      "simulation 11 completed\n",
      "simulation 12 completed\n",
      "simulation 13 completed\n",
      "simulation 14 completed\n",
      "simulation 15 completed\n",
      "simulation 16 completed\n",
      "simulation 17 completed\n",
      "simulation 18 completed\n",
      "simulation 19 completed\n",
      "simulation 20 completed\n",
      "simulation 21 completed\n",
      "simulation 22 completed\n",
      "simulation 23 completed\n",
      "simulation 24 completed\n",
      "simulation 25 completed\n",
      "simulation 26 completed\n",
      "simulation 27 completed\n",
      "simulation 28 completed\n",
      "simulation 29 completed\n",
      "simulation 30 completed\n"
     ]
    }
   ],
   "source": [
    "n_simulations = 30\n",
    "\n",
    "W = np.zeros(shape = (n, n_simulations))\n",
    "P = np.zeros(shape = (n, n_simulations))\n",
    "Q = np.zeros(shape = (n, n_simulations))\n",
    "\n",
    "Net_Flows = np.zeros(shape = (m, n_simulations))\n",
    "Pos_Flows = np.zeros(shape = (m, n_simulations))\n",
    "Neg_Flows = np.zeros(shape = (m, n_simulations))\n",
    "results = [[] for s in range (n_simulations)]\n",
    "\n",
    "# Usaremos sempre a função de preferência do tipo 5\n",
    "s_curve = [0 for j in range (n)] \n",
    "pref = [5 for j in range (n)]\n",
    "\n",
    "for s in range (n_simulations):\n",
    "    W [:,s] = np.random.dirichlet(np.ones(n),size=1).reshape(n) # weights\n",
    "    Q [:,s] = np.random.uniform (2,6, n)\n",
    "    P [:,s] = np.random.uniform (8, 12, n)\n",
    "    results[s], Net_Flows[:,s], Pos_Flows[:,s], Neg_Flows[:,s] = PROMETHEE_2 (X, Q[:,s], P[:,s], s_curve, W[:,s], pref)\n",
    "    print (f'simulation {s+1} completed')"
   ]
  },
  {
   "cell_type": "code",
   "execution_count": 40,
   "metadata": {},
   "outputs": [
    {
     "data": {
      "text/plain": [
       "Index(['Sigma', 'Mu'], dtype='object')"
      ]
     },
     "execution_count": 40,
     "metadata": {},
     "output_type": "execute_result"
    }
   ],
   "source": [
    "mu_pos = np.mean(Pos_Flows, axis=1)\n",
    "sigma_pos = np.std(Pos_Flows, axis=1)\n",
    "\n",
    "#Construindo um DataFrame dos resultados\n",
    "Sigma_Mu_df = pd.DataFrame({\"Sigma\": sigma_pos,\"Mu\": mu_pos}, index= dados.index)\n",
    "Sigma_Mu_df.columns"
   ]
  },
  {
   "cell_type": "code",
   "execution_count": 41,
   "metadata": {},
   "outputs": [
    {
     "data": {
      "image/png": "[encoded data removed]",
      "text/plain": [
       "<Figure size 1152x864 with 1 Axes>"
      ]
     },
     "metadata": {
      "needs_background": "light"
     },
     "output_type": "display_data"
    }
   ],
   "source": [
    "from matplotlib import cm\n",
    "\n",
    "fig, ax = plt.subplots()\n",
    "\n",
    "cmap = cm.get_cmap('Spectral')\n",
    "\n",
    "Sigma_Mu_df.plot('Sigma', 'Mu', kind='scatter', ax=ax, figsize = (16,12))\n",
    "\n",
    "for k, v in Sigma_Mu_df.iterrows():\n",
    "    ax.annotate(k, v,\n",
    "                xytext=(10,-5), textcoords='offset points',\n",
    "                family='sans-serif', fontsize=8, color='black')"
   ]
  },
  {
   "cell_type": "code",
   "execution_count": 42,
   "metadata": {},
   "outputs": [
    {
     "name": "stderr",
     "output_type": "stream",
     "text": [
      "C:\\Users\\igor2\\anaconda3\\lib\\site-packages\\sklearn\\cluster\\_kmeans.py:870: FutureWarning: The default value of `n_init` will change from 10 to 'auto' in 1.4. Set the value of `n_init` explicitly to suppress the warning\n",
      "  warnings.warn(\n",
      "C:\\Users\\igor2\\anaconda3\\lib\\site-packages\\sklearn\\cluster\\_kmeans.py:1382: UserWarning: KMeans is known to have a memory leak on Windows with MKL, when there are less chunks than available threads. You can avoid it by setting the environment variable OMP_NUM_THREADS=1.\n",
      "  warnings.warn(\n"
     ]
    },
    {
     "data": {
      "text/html": [
       "<div>\n",
       "<style scoped>\n",
       "    .dataframe tbody tr th:only-of-type {\n",
       "        vertical-align: middle;\n",
       "    }\n",
       "\n",
       "    .dataframe tbody tr th {\n",
       "        vertical-align: top;\n",
       "    }\n",
       "\n",
       "    .dataframe thead th {\n",
       "        text-align: right;\n",
       "    }\n",
       "</style>\n",
       "<table border=\"1\" class=\"dataframe\">\n",
       "  <thead>\n",
       "    <tr style=\"text-align: right;\">\n",
       "      <th></th>\n",
       "      <th>Sigma</th>\n",
       "      <th>Mu</th>\n",
       "      <th>Category</th>\n",
       "    </tr>\n",
       "  </thead>\n",
       "  <tbody>\n",
       "    <tr>\n",
       "      <th>Afghanistan</th>\n",
       "      <td>0.011049</td>\n",
       "      <td>0.034633</td>\n",
       "      <td>1</td>\n",
       "    </tr>\n",
       "    <tr>\n",
       "      <th>Albania</th>\n",
       "      <td>0.039779</td>\n",
       "      <td>0.346597</td>\n",
       "      <td>0</td>\n",
       "    </tr>\n",
       "    <tr>\n",
       "      <th>Algeria</th>\n",
       "      <td>0.047920</td>\n",
       "      <td>0.210089</td>\n",
       "      <td>3</td>\n",
       "    </tr>\n",
       "    <tr>\n",
       "      <th>Angola</th>\n",
       "      <td>0.016023</td>\n",
       "      <td>0.060917</td>\n",
       "      <td>1</td>\n",
       "    </tr>\n",
       "    <tr>\n",
       "      <th>Argentina</th>\n",
       "      <td>0.063824</td>\n",
       "      <td>0.384183</td>\n",
       "      <td>0</td>\n",
       "    </tr>\n",
       "    <tr>\n",
       "      <th>...</th>\n",
       "      <td>...</td>\n",
       "      <td>...</td>\n",
       "      <td>...</td>\n",
       "    </tr>\n",
       "    <tr>\n",
       "      <th>Venezuela</th>\n",
       "      <td>0.042391</td>\n",
       "      <td>0.135219</td>\n",
       "      <td>1</td>\n",
       "    </tr>\n",
       "    <tr>\n",
       "      <th>Vietnam</th>\n",
       "      <td>0.049627</td>\n",
       "      <td>0.359503</td>\n",
       "      <td>0</td>\n",
       "    </tr>\n",
       "    <tr>\n",
       "      <th>Yemen</th>\n",
       "      <td>0.006316</td>\n",
       "      <td>0.020912</td>\n",
       "      <td>1</td>\n",
       "    </tr>\n",
       "    <tr>\n",
       "      <th>Zambia</th>\n",
       "      <td>0.029499</td>\n",
       "      <td>0.186055</td>\n",
       "      <td>3</td>\n",
       "    </tr>\n",
       "    <tr>\n",
       "      <th>Zimbabwe</th>\n",
       "      <td>0.019924</td>\n",
       "      <td>0.091733</td>\n",
       "      <td>1</td>\n",
       "    </tr>\n",
       "  </tbody>\n",
       "</table>\n",
       "<p>167 rows × 3 columns</p>\n",
       "</div>"
      ],
      "text/plain": [
       "                Sigma        Mu  Category\n",
       "Afghanistan  0.011049  0.034633         1\n",
       "Albania      0.039779  0.346597         0\n",
       "Algeria      0.047920  0.210089         3\n",
       "Angola       0.016023  0.060917         1\n",
       "Argentina    0.063824  0.384183         0\n",
       "...               ...       ...       ...\n",
       "Venezuela    0.042391  0.135219         1\n",
       "Vietnam      0.049627  0.359503         0\n",
       "Yemen        0.006316  0.020912         1\n",
       "Zambia       0.029499  0.186055         3\n",
       "Zimbabwe     0.019924  0.091733         1\n",
       "\n",
       "[167 rows x 3 columns]"
      ]
     },
     "execution_count": 42,
     "metadata": {},
     "output_type": "execute_result"
    }
   ],
   "source": [
    "# Possívei ideia de usar KMeans antes da otimização\n",
    "\n",
    "from sklearn.cluster import KMeans\n",
    "kmeans = KMeans(n_clusters=5, random_state=0).fit(Sigma_Mu_df)\n",
    "kmeans.labels_\n",
    "\n",
    "Sigma_Mu_df.assign(Category = kmeans.labels_)\n",
    "\n",
    "Sigma_Mu_df_clusters = Sigma_Mu_df.assign(Category = kmeans.labels_)\n",
    "Sigma_Mu_df_clusters"
   ]
  },
  {
   "cell_type": "code",
   "execution_count": 43,
   "metadata": {},
   "outputs": [],
   "source": [
    "Sigma_Mu_df_clusters.to_excel(\"ClustersPosFlow.xlsx\")"
   ]
  },
  {
   "cell_type": "code",
   "execution_count": 44,
   "metadata": {},
   "outputs": [
    {
     "data": {
      "text/plain": [
       "array([[0.0489683 , 0.38057042],\n",
       "       [0.02476039, 0.10614838],\n",
       "       [0.034649  , 0.76867141],\n",
       "       [0.04143748, 0.25912673],\n",
       "       [0.05298554, 0.57602566]])"
      ]
     },
     "execution_count": 44,
     "metadata": {},
     "output_type": "execute_result"
    }
   ],
   "source": [
    "A = kmeans.cluster_centers_\n",
    "A"
   ]
  },
  {
   "cell_type": "code",
   "execution_count": 45,
   "metadata": {},
   "outputs": [
    {
     "data": {
      "text/html": [
       "<div>\n",
       "<style scoped>\n",
       "    .dataframe tbody tr th:only-of-type {\n",
       "        vertical-align: middle;\n",
       "    }\n",
       "\n",
       "    .dataframe tbody tr th {\n",
       "        vertical-align: top;\n",
       "    }\n",
       "\n",
       "    .dataframe thead th {\n",
       "        text-align: right;\n",
       "    }\n",
       "</style>\n",
       "<table border=\"1\" class=\"dataframe\">\n",
       "  <thead>\n",
       "    <tr style=\"text-align: right;\">\n",
       "      <th></th>\n",
       "      <th>0</th>\n",
       "      <th>1</th>\n",
       "    </tr>\n",
       "  </thead>\n",
       "  <tbody>\n",
       "    <tr>\n",
       "      <th>0</th>\n",
       "      <td>0.048968</td>\n",
       "      <td>0.380570</td>\n",
       "    </tr>\n",
       "    <tr>\n",
       "      <th>1</th>\n",
       "      <td>0.024760</td>\n",
       "      <td>0.106148</td>\n",
       "    </tr>\n",
       "    <tr>\n",
       "      <th>2</th>\n",
       "      <td>0.034649</td>\n",
       "      <td>0.768671</td>\n",
       "    </tr>\n",
       "    <tr>\n",
       "      <th>3</th>\n",
       "      <td>0.041437</td>\n",
       "      <td>0.259127</td>\n",
       "    </tr>\n",
       "    <tr>\n",
       "      <th>4</th>\n",
       "      <td>0.052986</td>\n",
       "      <td>0.576026</td>\n",
       "    </tr>\n",
       "  </tbody>\n",
       "</table>\n",
       "</div>"
      ],
      "text/plain": [
       "          0         1\n",
       "0  0.048968  0.380570\n",
       "1  0.024760  0.106148\n",
       "2  0.034649  0.768671\n",
       "3  0.041437  0.259127\n",
       "4  0.052986  0.576026"
      ]
     },
     "execution_count": 45,
     "metadata": {},
     "output_type": "execute_result"
    }
   ],
   "source": [
    "A_df = pd.DataFrame(A)\n",
    "A_df"
   ]
  },
  {
   "cell_type": "code",
   "execution_count": 46,
   "metadata": {},
   "outputs": [],
   "source": [
    "df =A_df.copy()"
   ]
  },
  {
   "cell_type": "code",
   "execution_count": 47,
   "metadata": {},
   "outputs": [
    {
     "data": {
      "text/html": [
       "<div>\n",
       "<style scoped>\n",
       "    .dataframe tbody tr th:only-of-type {\n",
       "        vertical-align: middle;\n",
       "    }\n",
       "\n",
       "    .dataframe tbody tr th {\n",
       "        vertical-align: top;\n",
       "    }\n",
       "\n",
       "    .dataframe thead th {\n",
       "        text-align: right;\n",
       "    }\n",
       "</style>\n",
       "<table border=\"1\" class=\"dataframe\">\n",
       "  <thead>\n",
       "    <tr style=\"text-align: right;\">\n",
       "      <th></th>\n",
       "      <th>0</th>\n",
       "      <th>1</th>\n",
       "    </tr>\n",
       "  </thead>\n",
       "  <tbody>\n",
       "    <tr>\n",
       "      <th>0</th>\n",
       "      <td>0.048968</td>\n",
       "      <td>0.380570</td>\n",
       "    </tr>\n",
       "    <tr>\n",
       "      <th>1</th>\n",
       "      <td>0.024760</td>\n",
       "      <td>0.106148</td>\n",
       "    </tr>\n",
       "    <tr>\n",
       "      <th>2</th>\n",
       "      <td>0.034649</td>\n",
       "      <td>0.768671</td>\n",
       "    </tr>\n",
       "    <tr>\n",
       "      <th>3</th>\n",
       "      <td>0.041437</td>\n",
       "      <td>0.259127</td>\n",
       "    </tr>\n",
       "    <tr>\n",
       "      <th>4</th>\n",
       "      <td>0.052986</td>\n",
       "      <td>0.576026</td>\n",
       "    </tr>\n",
       "  </tbody>\n",
       "</table>\n",
       "</div>"
      ],
      "text/plain": [
       "          0         1\n",
       "0  0.048968  0.380570\n",
       "1  0.024760  0.106148\n",
       "2  0.034649  0.768671\n",
       "3  0.041437  0.259127\n",
       "4  0.052986  0.576026"
      ]
     },
     "execution_count": 47,
     "metadata": {},
     "output_type": "execute_result"
    }
   ],
   "source": [
    "df"
   ]
  },
  {
   "cell_type": "code",
   "execution_count": 48,
   "metadata": {},
   "outputs": [
    {
     "name": "stdout",
     "output_type": "stream",
     "text": [
      "PKF_1: [1, 2]\n",
      "PKF_2: [0, 3, 4]\n"
     ]
    }
   ],
   "source": [
    "df =A_df.copy()\n",
    "PKF=[]\n",
    "count=0\n",
    "while df.shape[0]>0:\n",
    "    PKF.append([])\n",
    "    for idx in df.index:\n",
    "        comp_df = df.copy()\n",
    "        comp_df.drop(index = idx)\n",
    "        if any([any([\n",
    "                ((df.loc[idx][0] > comp_df.iloc[i,0]) and (df.loc[idx][1] < comp_df.iloc[i,1])), # loose in both dimensions\n",
    "                ((df.loc[idx][0] > comp_df.iloc[i,0]) and (df.loc[idx][1] == comp_df.iloc[i,1])), # loose in first dimension and drow in second\n",
    "                ((df.loc[idx][0] == comp_df.iloc[i,0]) and (df.loc[idx][1] < comp_df.iloc[i,1])) # loose in the second dimension \n",
    "                    ]) for i in range (comp_df.shape[0])]\n",
    "                ) == False:\n",
    "            PKF[count].append(idx)\n",
    "    \n",
    "    if len(PKF[count]) == 0:\n",
    "        PKF[count].append(df.index)\n",
    "        break\n",
    "    else:\n",
    "        df = df.drop(index=PKF[count])\n",
    "        print(f'PKF_{str(count+1)}: {PKF[count]}')\n",
    "        count+=1"
   ]
  },
  {
   "cell_type": "code",
   "execution_count": 49,
   "metadata": {},
   "outputs": [
    {
     "name": "stdout",
     "output_type": "stream",
     "text": [
      "alternative 1, fronteira 1: resolvido.\n",
      "alternative 1, fronteira 2: resolvido.\n",
      "alternative 2, fronteira 1: resolvido.\n",
      "alternative 2, fronteira 2: resolvido.\n",
      "alternative 3, fronteira 1: resolvido.\n",
      "alternative 3, fronteira 2: resolvido.\n",
      "alternative 4, fronteira 1: resolvido.\n",
      "alternative 4, fronteira 2: resolvido.\n",
      "alternative 5, fronteira 1: resolvido.\n",
      "alternative 5, fronteira 2: resolvido.\n"
     ]
    }
   ],
   "source": [
    "from PROMETHEE import optimize_PROM1_original_pos_flow, optimize_newconstraint_pos_flow\n",
    "\n",
    "m = A_df.shape[0] # number of alternatives\n",
    "m_f = len(PKF) # number of frontiers\n",
    "local_ef = np.zeros(shape = (A_df.shape[0], len(PKF)))\n",
    "local_ef_new = np.zeros(shape = (A_df.shape[0], len(PKF)))\n",
    "\n",
    "for unit in range (m):\n",
    "    for fr in range (m_f):\n",
    "        unit_sigmamu = np.array([A_df.iloc[unit]]) # get the alternative unit\n",
    "        \n",
    "        for k in range(fr, m_f):\n",
    "            for l in range(len(PKF[k])):\n",
    "                Fr_list.append(PKF[k][l])\n",
    "        Fr_sigmamu = np.array (A_df.loc[PKF[fr]]) # get alternatives within frontier fr or a less preferred one\n",
    "        \n",
    "        M, resultado = optimize_PROM1_original_pos_flow(unit_sigmamu, Fr_sigmamu)\n",
    "        local_ef[unit, fr] = M.obj()\n",
    "\n",
    "        M_new, resultado_new = optimize_newconstraint_pos_flow(unit_sigmamu, Fr_sigmamu)\n",
    "        local_ef_new[unit, fr] = M_new.obj()\n",
    "        \n",
    "        print(f'alternative {unit+1}, fronteira {fr + 1}: resolvido.')\n",
    "        \n",
    "        #print(f'local_ef = {local_ef[unit, fr]}')"
   ]
  },
  {
   "cell_type": "code",
   "execution_count": 50,
   "metadata": {},
   "outputs": [
    {
     "data": {
      "text/plain": [
       "Global Efficiency    0.016677\n",
       "Position             2.000000\n",
       "Name: 1, dtype: float64"
      ]
     },
     "execution_count": 50,
     "metadata": {},
     "output_type": "execute_result"
    }
   ],
   "source": [
    "global_ef = np.sum(local_ef, axis = 1)\n",
    "results = pd.DataFrame({\"Global Efficiency\": global_ef}, index = A_df.index).sort_values(\"Global Efficiency\", ascending = False)\n",
    "results = results.assign(Position = [i+1 for i in range(results.shape[0])])\n",
    "results.loc[1]"
   ]
  },
  {
   "cell_type": "code",
   "execution_count": 51,
   "metadata": {},
   "outputs": [],
   "source": [
    "#global_ef_new = np.sum(local_ef_new, axis = 1)\n",
    "#results_new = pd.DataFrame({\"Global Efficiency\": global_ef_new}, index = Sigma_Mu_df.index).sort_values(\"Global Efficiency\", ascending = False)\n",
    "#results_new = results_new.assign(Position = [i+1 for i in range(results.shape[0])])\n",
    "#results_new.loc[\"Yemen\"]"
   ]
  },
  {
   "cell_type": "code",
   "execution_count": 52,
   "metadata": {},
   "outputs": [],
   "source": [
    "#PROMETHEE I PARA FLUXO NEGATIVO"
   ]
  },
  {
   "cell_type": "code",
   "execution_count": 53,
   "metadata": {},
   "outputs": [],
   "source": [
    "X = np.array(dados) # decision matrix\n",
    "m, n = X.shape\n",
    "q = np.array([5 for j in range (n)]) # indiference thresholds vector\n",
    "p = np.array([10 for j in range (n)]) # preference thresholds vector\n",
    "s_curve = [0 for j in range (n)]\n",
    "pref = [5 for j in range (n)]\n",
    "w = np.random.dirichlet(np.ones(n),size=1).reshape(n) # weights"
   ]
  },
  {
   "cell_type": "code",
   "execution_count": 54,
   "metadata": {},
   "outputs": [],
   "source": [
    "# Aplica o PROMETHEE_2 ao nosso conjunto de dados\n",
    "\n",
    "neg_flows = PROMETHEE_2(Decision_Matrix = X, q_thresholds=q, p_thresholds= p, scurve_thresholds = s_curve, weights = w, pref_functions= pref)[3]"
   ]
  },
  {
   "cell_type": "code",
   "execution_count": 55,
   "metadata": {},
   "outputs": [
    {
     "data": {
      "text/plain": [
       "0    0.327015\n",
       "Name: Brazil, dtype: float64"
      ]
     },
     "execution_count": 55,
     "metadata": {},
     "output_type": "execute_result"
    }
   ],
   "source": [
    "pd.DataFrame(neg_flows, index=dados.index).loc[\"Brazil\"]"
   ]
  },
  {
   "cell_type": "code",
   "execution_count": 56,
   "metadata": {},
   "outputs": [
    {
     "name": "stdout",
     "output_type": "stream",
     "text": [
      "simulation 1 completed\n",
      "simulation 2 completed\n",
      "simulation 3 completed\n",
      "simulation 4 completed\n",
      "simulation 5 completed\n",
      "simulation 6 completed\n",
      "simulation 7 completed\n",
      "simulation 8 completed\n",
      "simulation 9 completed\n",
      "simulation 10 completed\n",
      "simulation 11 completed\n",
      "simulation 12 completed\n",
      "simulation 13 completed\n",
      "simulation 14 completed\n",
      "simulation 15 completed\n",
      "simulation 16 completed\n",
      "simulation 17 completed\n",
      "simulation 18 completed\n",
      "simulation 19 completed\n",
      "simulation 20 completed\n",
      "simulation 21 completed\n",
      "simulation 22 completed\n",
      "simulation 23 completed\n",
      "simulation 24 completed\n",
      "simulation 25 completed\n",
      "simulation 26 completed\n",
      "simulation 27 completed\n",
      "simulation 28 completed\n",
      "simulation 29 completed\n",
      "simulation 30 completed\n"
     ]
    }
   ],
   "source": [
    "n_simulations = 30\n",
    "\n",
    "W = np.zeros(shape = (n, n_simulations))\n",
    "P = np.zeros(shape = (n, n_simulations))\n",
    "Q = np.zeros(shape = (n, n_simulations))\n",
    "\n",
    "Net_Flows = np.zeros(shape = (m, n_simulations))\n",
    "Pos_Flows = np.zeros(shape = (m, n_simulations))\n",
    "Neg_Flows = np.zeros(shape = (m, n_simulations))\n",
    "results = [[] for s in range (n_simulations)]\n",
    "\n",
    "# Usaremos sempre a função de preferência do tipo 5\n",
    "s_curve = [0 for j in range (n)] \n",
    "pref = [5 for j in range (n)]\n",
    "\n",
    "for s in range (n_simulations):\n",
    "    W [:,s] = np.random.dirichlet(np.ones(n),size=1).reshape(n) # weights\n",
    "    Q [:,s] = np.random.uniform (2,6, n)\n",
    "    P [:,s] = np.random.uniform (8, 12, n)\n",
    "    results[s], Net_Flows[:,s], Pos_Flows[:,s], Neg_Flows[:,s] = PROMETHEE_2 (X, Q[:,s], P[:,s], s_curve, W[:,s], pref)\n",
    "    print (f'simulation {s+1} completed')"
   ]
  },
  {
   "cell_type": "code",
   "execution_count": 57,
   "metadata": {},
   "outputs": [
    {
     "data": {
      "text/plain": [
       "Index(['Sigma', 'Mu'], dtype='object')"
      ]
     },
     "execution_count": 57,
     "metadata": {},
     "output_type": "execute_result"
    }
   ],
   "source": [
    "mu_neg = np.mean(Neg_Flows, axis=1)\n",
    "sigma_neg = np.std(Neg_Flows, axis=1)\n",
    "\n",
    "#Construindo um DataFrame dos resultados\n",
    "Sigma_Mu_df = pd.DataFrame({\"Sigma\": sigma_neg,\"Mu\": mu_neg}, index= dados.index)\n",
    "Sigma_Mu_df.columns"
   ]
  },
  {
   "cell_type": "code",
   "execution_count": 58,
   "metadata": {},
   "outputs": [
    {
     "data": {
      "image/png": "[encoded data removed]",
      "text/plain": [
       "<Figure size 1152x864 with 1 Axes>"
      ]
     },
     "metadata": {
      "needs_background": "light"
     },
     "output_type": "display_data"
    }
   ],
   "source": [
    "from matplotlib import cm\n",
    "\n",
    "fig, ax = plt.subplots()\n",
    "\n",
    "cmap = cm.get_cmap('Spectral')\n",
    "\n",
    "Sigma_Mu_df.plot('Sigma', 'Mu', kind='scatter', ax=ax, figsize = (16,12))\n",
    "\n",
    "for k, v in Sigma_Mu_df.iterrows():\n",
    "    ax.annotate(k, v,\n",
    "                xytext=(10,-5), textcoords='offset points',\n",
    "                family='sans-serif', fontsize=8, color='black')"
   ]
  },
  {
   "cell_type": "code",
   "execution_count": 59,
   "metadata": {},
   "outputs": [
    {
     "name": "stderr",
     "output_type": "stream",
     "text": [
      "C:\\Users\\igor2\\anaconda3\\lib\\site-packages\\sklearn\\cluster\\_kmeans.py:870: FutureWarning: The default value of `n_init` will change from 10 to 'auto' in 1.4. Set the value of `n_init` explicitly to suppress the warning\n",
      "  warnings.warn(\n",
      "C:\\Users\\igor2\\anaconda3\\lib\\site-packages\\sklearn\\cluster\\_kmeans.py:1382: UserWarning: KMeans is known to have a memory leak on Windows with MKL, when there are less chunks than available threads. You can avoid it by setting the environment variable OMP_NUM_THREADS=1.\n",
      "  warnings.warn(\n"
     ]
    },
    {
     "data": {
      "text/html": [
       "<div>\n",
       "<style scoped>\n",
       "    .dataframe tbody tr th:only-of-type {\n",
       "        vertical-align: middle;\n",
       "    }\n",
       "\n",
       "    .dataframe tbody tr th {\n",
       "        vertical-align: top;\n",
       "    }\n",
       "\n",
       "    .dataframe thead th {\n",
       "        text-align: right;\n",
       "    }\n",
       "</style>\n",
       "<table border=\"1\" class=\"dataframe\">\n",
       "  <thead>\n",
       "    <tr style=\"text-align: right;\">\n",
       "      <th></th>\n",
       "      <th>Sigma</th>\n",
       "      <th>Mu</th>\n",
       "      <th>Category</th>\n",
       "    </tr>\n",
       "  </thead>\n",
       "  <tbody>\n",
       "    <tr>\n",
       "      <th>Afghanistan</th>\n",
       "      <td>0.029532</td>\n",
       "      <td>0.811775</td>\n",
       "      <td>2</td>\n",
       "    </tr>\n",
       "    <tr>\n",
       "      <th>Albania</th>\n",
       "      <td>0.032761</td>\n",
       "      <td>0.296381</td>\n",
       "      <td>3</td>\n",
       "    </tr>\n",
       "    <tr>\n",
       "      <th>Algeria</th>\n",
       "      <td>0.052986</td>\n",
       "      <td>0.467751</td>\n",
       "      <td>1</td>\n",
       "    </tr>\n",
       "    <tr>\n",
       "      <th>Angola</th>\n",
       "      <td>0.049742</td>\n",
       "      <td>0.719785</td>\n",
       "      <td>2</td>\n",
       "    </tr>\n",
       "    <tr>\n",
       "      <th>Argentina</th>\n",
       "      <td>0.049939</td>\n",
       "      <td>0.281034</td>\n",
       "      <td>3</td>\n",
       "    </tr>\n",
       "    <tr>\n",
       "      <th>...</th>\n",
       "      <td>...</td>\n",
       "      <td>...</td>\n",
       "      <td>...</td>\n",
       "    </tr>\n",
       "    <tr>\n",
       "      <th>Venezuela</th>\n",
       "      <td>0.073981</td>\n",
       "      <td>0.647638</td>\n",
       "      <td>4</td>\n",
       "    </tr>\n",
       "    <tr>\n",
       "      <th>Vietnam</th>\n",
       "      <td>0.045665</td>\n",
       "      <td>0.313059</td>\n",
       "      <td>3</td>\n",
       "    </tr>\n",
       "    <tr>\n",
       "      <th>Yemen</th>\n",
       "      <td>0.026439</td>\n",
       "      <td>0.827871</td>\n",
       "      <td>2</td>\n",
       "    </tr>\n",
       "    <tr>\n",
       "      <th>Zambia</th>\n",
       "      <td>0.066050</td>\n",
       "      <td>0.515836</td>\n",
       "      <td>4</td>\n",
       "    </tr>\n",
       "    <tr>\n",
       "      <th>Zimbabwe</th>\n",
       "      <td>0.040499</td>\n",
       "      <td>0.650308</td>\n",
       "      <td>4</td>\n",
       "    </tr>\n",
       "  </tbody>\n",
       "</table>\n",
       "<p>167 rows × 3 columns</p>\n",
       "</div>"
      ],
      "text/plain": [
       "                Sigma        Mu  Category\n",
       "Afghanistan  0.029532  0.811775         2\n",
       "Albania      0.032761  0.296381         3\n",
       "Algeria      0.052986  0.467751         1\n",
       "Angola       0.049742  0.719785         2\n",
       "Argentina    0.049939  0.281034         3\n",
       "...               ...       ...       ...\n",
       "Venezuela    0.073981  0.647638         4\n",
       "Vietnam      0.045665  0.313059         3\n",
       "Yemen        0.026439  0.827871         2\n",
       "Zambia       0.066050  0.515836         4\n",
       "Zimbabwe     0.040499  0.650308         4\n",
       "\n",
       "[167 rows x 3 columns]"
      ]
     },
     "execution_count": 59,
     "metadata": {},
     "output_type": "execute_result"
    }
   ],
   "source": [
    "# Possívei ideia de usar KMeans antes da otimização\n",
    "\n",
    "from sklearn.cluster import KMeans\n",
    "kmeans = KMeans(n_clusters=5, random_state=0).fit(Sigma_Mu_df)\n",
    "kmeans.labels_\n",
    "\n",
    "Sigma_Mu_df.assign(Category = kmeans.labels_)\n",
    "\n",
    "Sigma_Mu_df_clusters = Sigma_Mu_df.assign(Category = kmeans.labels_)\n",
    "Sigma_Mu_df_clusters"
   ]
  },
  {
   "cell_type": "code",
   "execution_count": 60,
   "metadata": {},
   "outputs": [],
   "source": [
    "Sigma_Mu_df_clusters.to_excel(\"ClustersNegFlow.xlsx\")"
   ]
  },
  {
   "cell_type": "code",
   "execution_count": 61,
   "metadata": {},
   "outputs": [
    {
     "data": {
      "text/plain": [
       "array([[0.01559963, 0.05804405],\n",
       "       [0.05183088, 0.41378174],\n",
       "       [0.04713401, 0.76753049],\n",
       "       [0.03981902, 0.25815135],\n",
       "       [0.05943989, 0.58925188]])"
      ]
     },
     "execution_count": 61,
     "metadata": {},
     "output_type": "execute_result"
    }
   ],
   "source": [
    "A = kmeans.cluster_centers_\n",
    "A"
   ]
  },
  {
   "cell_type": "code",
   "execution_count": 62,
   "metadata": {},
   "outputs": [
    {
     "data": {
      "text/html": [
       "<div>\n",
       "<style scoped>\n",
       "    .dataframe tbody tr th:only-of-type {\n",
       "        vertical-align: middle;\n",
       "    }\n",
       "\n",
       "    .dataframe tbody tr th {\n",
       "        vertical-align: top;\n",
       "    }\n",
       "\n",
       "    .dataframe thead th {\n",
       "        text-align: right;\n",
       "    }\n",
       "</style>\n",
       "<table border=\"1\" class=\"dataframe\">\n",
       "  <thead>\n",
       "    <tr style=\"text-align: right;\">\n",
       "      <th></th>\n",
       "      <th>0</th>\n",
       "      <th>1</th>\n",
       "    </tr>\n",
       "  </thead>\n",
       "  <tbody>\n",
       "    <tr>\n",
       "      <th>0</th>\n",
       "      <td>0.015600</td>\n",
       "      <td>0.058044</td>\n",
       "    </tr>\n",
       "    <tr>\n",
       "      <th>1</th>\n",
       "      <td>0.051831</td>\n",
       "      <td>0.413782</td>\n",
       "    </tr>\n",
       "    <tr>\n",
       "      <th>2</th>\n",
       "      <td>0.047134</td>\n",
       "      <td>0.767530</td>\n",
       "    </tr>\n",
       "    <tr>\n",
       "      <th>3</th>\n",
       "      <td>0.039819</td>\n",
       "      <td>0.258151</td>\n",
       "    </tr>\n",
       "    <tr>\n",
       "      <th>4</th>\n",
       "      <td>0.059440</td>\n",
       "      <td>0.589252</td>\n",
       "    </tr>\n",
       "  </tbody>\n",
       "</table>\n",
       "</div>"
      ],
      "text/plain": [
       "          0         1\n",
       "0  0.015600  0.058044\n",
       "1  0.051831  0.413782\n",
       "2  0.047134  0.767530\n",
       "3  0.039819  0.258151\n",
       "4  0.059440  0.589252"
      ]
     },
     "execution_count": 62,
     "metadata": {},
     "output_type": "execute_result"
    }
   ],
   "source": [
    "A_df = pd.DataFrame(A)\n",
    "A_df"
   ]
  },
  {
   "cell_type": "code",
   "execution_count": 63,
   "metadata": {},
   "outputs": [],
   "source": [
    "df =A_df.copy()"
   ]
  },
  {
   "cell_type": "code",
   "execution_count": 64,
   "metadata": {},
   "outputs": [
    {
     "data": {
      "text/html": [
       "<div>\n",
       "<style scoped>\n",
       "    .dataframe tbody tr th:only-of-type {\n",
       "        vertical-align: middle;\n",
       "    }\n",
       "\n",
       "    .dataframe tbody tr th {\n",
       "        vertical-align: top;\n",
       "    }\n",
       "\n",
       "    .dataframe thead th {\n",
       "        text-align: right;\n",
       "    }\n",
       "</style>\n",
       "<table border=\"1\" class=\"dataframe\">\n",
       "  <thead>\n",
       "    <tr style=\"text-align: right;\">\n",
       "      <th></th>\n",
       "      <th>0</th>\n",
       "      <th>1</th>\n",
       "    </tr>\n",
       "  </thead>\n",
       "  <tbody>\n",
       "    <tr>\n",
       "      <th>0</th>\n",
       "      <td>0.015600</td>\n",
       "      <td>0.058044</td>\n",
       "    </tr>\n",
       "    <tr>\n",
       "      <th>1</th>\n",
       "      <td>0.051831</td>\n",
       "      <td>0.413782</td>\n",
       "    </tr>\n",
       "    <tr>\n",
       "      <th>2</th>\n",
       "      <td>0.047134</td>\n",
       "      <td>0.767530</td>\n",
       "    </tr>\n",
       "    <tr>\n",
       "      <th>3</th>\n",
       "      <td>0.039819</td>\n",
       "      <td>0.258151</td>\n",
       "    </tr>\n",
       "    <tr>\n",
       "      <th>4</th>\n",
       "      <td>0.059440</td>\n",
       "      <td>0.589252</td>\n",
       "    </tr>\n",
       "  </tbody>\n",
       "</table>\n",
       "</div>"
      ],
      "text/plain": [
       "          0         1\n",
       "0  0.015600  0.058044\n",
       "1  0.051831  0.413782\n",
       "2  0.047134  0.767530\n",
       "3  0.039819  0.258151\n",
       "4  0.059440  0.589252"
      ]
     },
     "execution_count": 64,
     "metadata": {},
     "output_type": "execute_result"
    }
   ],
   "source": [
    "df"
   ]
  },
  {
   "cell_type": "code",
   "execution_count": 65,
   "metadata": {},
   "outputs": [
    {
     "name": "stdout",
     "output_type": "stream",
     "text": [
      "PKF_1: [2, 4]\n",
      "PKF_2: [1]\n",
      "PKF_3: [3]\n",
      "PKF_4: [0]\n"
     ]
    }
   ],
   "source": [
    "df =A_df.copy()\n",
    "PKF=[]\n",
    "count=0\n",
    "while df.shape[0]>0:\n",
    "    PKF.append([])\n",
    "    for idx in df.index:\n",
    "        comp_df = df.copy()\n",
    "        comp_df.drop(index = idx)\n",
    "        if any([any([\n",
    "                ((df.loc[idx][0] < comp_df.iloc[i,0]) and (df.loc[idx][1] < comp_df.iloc[i,1])), # loose in both dimensions\n",
    "                ((df.loc[idx][0] < comp_df.iloc[i,0]) and (df.loc[idx][1] == comp_df.iloc[i,1])), # loose in first dimension and drow in second\n",
    "                ((df.loc[idx][0] == comp_df.iloc[i,0]) and (df.loc[idx][1] < comp_df.iloc[i,1])) # loose in the second dimension \n",
    "                    ]) for i in range (comp_df.shape[0])]\n",
    "                ) == False:\n",
    "            PKF[count].append(idx)\n",
    "    \n",
    "    if len(PKF[count]) == 0:\n",
    "        PKF[count].append(df.index)\n",
    "        break\n",
    "    else:\n",
    "        df = df.drop(index=PKF[count])\n",
    "        print(f'PKF_{str(count+1)}: {PKF[count]}')\n",
    "        count+=1"
   ]
  },
  {
   "cell_type": "code",
   "execution_count": 66,
   "metadata": {},
   "outputs": [
    {
     "name": "stdout",
     "output_type": "stream",
     "text": [
      "alternative 1, fronteira 1: resolvido.\n",
      "alternative 1, fronteira 2: resolvido.\n",
      "alternative 1, fronteira 3: resolvido.\n",
      "alternative 1, fronteira 4: resolvido.\n",
      "alternative 2, fronteira 1: resolvido.\n",
      "alternative 2, fronteira 2: resolvido.\n",
      "alternative 2, fronteira 3: resolvido.\n",
      "alternative 2, fronteira 4: resolvido.\n",
      "alternative 3, fronteira 1: resolvido.\n",
      "alternative 3, fronteira 2: resolvido.\n",
      "alternative 3, fronteira 3: resolvido.\n",
      "alternative 3, fronteira 4: resolvido.\n",
      "alternative 4, fronteira 1: resolvido.\n",
      "alternative 4, fronteira 2: resolvido.\n",
      "alternative 4, fronteira 3: resolvido.\n",
      "alternative 4, fronteira 4: resolvido.\n",
      "alternative 5, fronteira 1: resolvido.\n",
      "alternative 5, fronteira 2: resolvido.\n",
      "alternative 5, fronteira 3: resolvido.\n",
      "alternative 5, fronteira 4: resolvido.\n"
     ]
    }
   ],
   "source": [
    "from PROMETHEE import optimize_PROM1_original_neg_flow, optimize_newconstraint_neg_flow\n",
    "\n",
    "m = A_df.shape[0] # number of alternatives\n",
    "m_f = len(PKF) # number of frontiers\n",
    "local_ef = np.zeros(shape = (A_df.shape[0], len(PKF)))\n",
    "local_ef_new = np.zeros(shape = (A_df.shape[0], len(PKF)))\n",
    "\n",
    "for unit in range (m):\n",
    "    for fr in range (m_f):\n",
    "        unit_sigmamu = np.array([A_df.iloc[unit]]) # get the alternative unit\n",
    "        \n",
    "        for k in range(fr, m_f):\n",
    "            for l in range(len(PKF[k])):\n",
    "                Fr_list.append(PKF[k][l])\n",
    "        Fr_sigmamu = np.array (A_df.loc[PKF[fr]]) # get alternatives within frontier fr or a dominated one\n",
    "        \n",
    "        M, resultado = optimize_PROM1_original_neg_flow(unit_sigmamu, Fr_sigmamu)\n",
    "        local_ef[unit, fr] = M.obj()\n",
    "\n",
    "        M_new, resultado_new = optimize_newconstraint_neg_flow(unit_sigmamu, Fr_sigmamu)\n",
    "        local_ef_new[unit, fr] = M_new.obj()\n",
    "        \n",
    "        print(f'alternative {unit+1}, fronteira {fr + 1}: resolvido.')\n",
    "        \n",
    "        #print(f'local_ef = {local_ef[unit, fr]}')"
   ]
  },
  {
   "cell_type": "code",
   "execution_count": 67,
   "metadata": {},
   "outputs": [
    {
     "data": {
      "text/plain": [
       "Global Efficiency    1.572614\n",
       "Position             1.000000\n",
       "Name: 2, dtype: float64"
      ]
     },
     "execution_count": 67,
     "metadata": {},
     "output_type": "execute_result"
    }
   ],
   "source": [
    "global_ef = np.sum(local_ef, axis = 1)\n",
    "results = pd.DataFrame({\"Global Efficiency\": global_ef}, index = A_df.index).sort_values(\"Global Efficiency\", ascending = False)\n",
    "results = results.assign(Position = [i+1 for i in range(results.shape[0])])\n",
    "results.loc[2]"
   ]
  },
  {
   "cell_type": "code",
   "execution_count": 68,
   "metadata": {},
   "outputs": [],
   "source": [
    "#global_ef_new = np.sum(local_ef_new, axis = 1)\n",
    "#results_new = pd.DataFrame({\"Global Efficiency\": global_ef_new}, index = Sigma_Mu_df.index).sort_values(\"Global Efficiency\", ascending = False)\n",
    "#results_new = results_new.assign(Position = [i+1 for i in range(results.shape[0])])\n",
    "#results_new.loc[\"Yemen\"]"
   ]
  },
  {
   "cell_type": "markdown",
   "metadata": {},
   "source": [
    "## FORMULAÇÃO 4.2.2.5 \n",
    "\n",
    "### PROMETHEE I - FLUXO POSITIVO E NEGATIVO JUNTOS"
   ]
  },
  {
   "cell_type": "code",
   "execution_count": 69,
   "metadata": {},
   "outputs": [],
   "source": [
    "X = np.array(dados) # decision matrix\n",
    "m, n = X.shape\n",
    "q = np.array([5 for j in range (n)]) # indiference thresholds vector\n",
    "p = np.array([10 for j in range (n)]) # preference thresholds vector\n",
    "s_curve = [0 for j in range (n)]\n",
    "pref = [5 for j in range (n)]\n",
    "w = np.random.dirichlet(np.ones(n),size=1).reshape(n) # weights"
   ]
  },
  {
   "cell_type": "code",
   "execution_count": 70,
   "metadata": {},
   "outputs": [],
   "source": [
    "# Aplica o PROMETHEE_1 ao nosso conjunto de dados\n",
    "\n",
    "pos_flows,neg_flows = PROMETHEE_2(Decision_Matrix = X, q_thresholds=q, p_thresholds= p, scurve_thresholds = s_curve, weights = w, pref_functions= pref)[1:3]\n"
   ]
  },
  {
   "cell_type": "code",
   "execution_count": 71,
   "metadata": {},
   "outputs": [
    {
     "data": {
      "text/plain": [
       "0    0.132299\n",
       "Name: Brazil, dtype: float64"
      ]
     },
     "execution_count": 71,
     "metadata": {},
     "output_type": "execute_result"
    }
   ],
   "source": [
    "pd.DataFrame(pos_flows, index=dados.index).loc[\"Brazil\"]"
   ]
  },
  {
   "cell_type": "code",
   "execution_count": 72,
   "metadata": {},
   "outputs": [
    {
     "data": {
      "text/plain": [
       "0    0.369001\n",
       "Name: Brazil, dtype: float64"
      ]
     },
     "execution_count": 72,
     "metadata": {},
     "output_type": "execute_result"
    }
   ],
   "source": [
    "pd.DataFrame(neg_flows, index=dados.index).loc[\"Brazil\"]"
   ]
  },
  {
   "cell_type": "code",
   "execution_count": 73,
   "metadata": {},
   "outputs": [
    {
     "name": "stdout",
     "output_type": "stream",
     "text": [
      "simulation 1 completed\n",
      "simulation 2 completed\n",
      "simulation 3 completed\n",
      "simulation 4 completed\n",
      "simulation 5 completed\n",
      "simulation 6 completed\n",
      "simulation 7 completed\n",
      "simulation 8 completed\n",
      "simulation 9 completed\n",
      "simulation 10 completed\n",
      "simulation 11 completed\n",
      "simulation 12 completed\n",
      "simulation 13 completed\n",
      "simulation 14 completed\n",
      "simulation 15 completed\n",
      "simulation 16 completed\n",
      "simulation 17 completed\n",
      "simulation 18 completed\n",
      "simulation 19 completed\n",
      "simulation 20 completed\n",
      "simulation 21 completed\n",
      "simulation 22 completed\n",
      "simulation 23 completed\n",
      "simulation 24 completed\n",
      "simulation 25 completed\n",
      "simulation 26 completed\n",
      "simulation 27 completed\n",
      "simulation 28 completed\n",
      "simulation 29 completed\n",
      "simulation 30 completed\n"
     ]
    }
   ],
   "source": [
    "n_simulations = 30\n",
    "\n",
    "W = np.zeros(shape = (n, n_simulations))\n",
    "P = np.zeros(shape = (n, n_simulations))\n",
    "Q = np.zeros(shape = (n, n_simulations))\n",
    "\n",
    "Net_Flows = np.zeros(shape = (m, n_simulations))\n",
    "Pos_Flows = np.zeros(shape = (m, n_simulations))\n",
    "Neg_Flows = np.zeros(shape = (m, n_simulations))\n",
    "results = [[] for s in range (n_simulations)]\n",
    "\n",
    "# Usaremos sempre a função de preferência do tipo 5\n",
    "s_curve = [0 for j in range (n)] \n",
    "pref = [5 for j in range (n)]\n",
    "\n",
    "for s in range (n_simulations):\n",
    "    W [:,s] = np.random.dirichlet(np.ones(n),size=1).reshape(n) # weights\n",
    "    Q [:,s] = np.random.uniform (2,6, n)\n",
    "    P [:,s] = np.random.uniform (8, 12, n)\n",
    "    results[s], Net_Flows[:,s], Pos_Flows[:,s], Neg_Flows[:,s] = PROMETHEE_2 (X, Q[:,s], P[:,s], s_curve, W[:,s], pref)\n",
    "    print (f'simulation {s+1} completed')"
   ]
  },
  {
   "cell_type": "code",
   "execution_count": 74,
   "metadata": {},
   "outputs": [
    {
     "data": {
      "text/plain": [
       "Index(['Sigma_pos', 'Mu_pos', 'Sigma_neg', 'Mu_neg'], dtype='object')"
      ]
     },
     "execution_count": 74,
     "metadata": {},
     "output_type": "execute_result"
    }
   ],
   "source": [
    "mu_pos = np.mean(Pos_Flows, axis=1)\n",
    "sigma_pos = np.std(Pos_Flows, axis=1)\n",
    "mu_neg = np.mean(Neg_Flows, axis=1)\n",
    "sigma_neg = np.std(Neg_Flows, axis=1)\n",
    "\n",
    "#Construindo um DataFrame dos resultados\n",
    "Sigma_Mu_df = pd.DataFrame({\"Sigma_pos\": sigma_pos,\"Mu_pos\": mu_pos, \"Sigma_neg\": sigma_neg,\"Mu_neg\": mu_neg}, index= dados.index)\n",
    "Sigma_Mu_df.columns"
   ]
  },
  {
   "cell_type": "code",
   "execution_count": 75,
   "metadata": {},
   "outputs": [
    {
     "name": "stderr",
     "output_type": "stream",
     "text": [
      "C:\\Users\\igor2\\anaconda3\\lib\\site-packages\\sklearn\\cluster\\_kmeans.py:870: FutureWarning: The default value of `n_init` will change from 10 to 'auto' in 1.4. Set the value of `n_init` explicitly to suppress the warning\n",
      "  warnings.warn(\n",
      "C:\\Users\\igor2\\anaconda3\\lib\\site-packages\\sklearn\\cluster\\_kmeans.py:1382: UserWarning: KMeans is known to have a memory leak on Windows with MKL, when there are less chunks than available threads. You can avoid it by setting the environment variable OMP_NUM_THREADS=1.\n",
      "  warnings.warn(\n"
     ]
    },
    {
     "data": {
      "text/html": [
       "<div>\n",
       "<style scoped>\n",
       "    .dataframe tbody tr th:only-of-type {\n",
       "        vertical-align: middle;\n",
       "    }\n",
       "\n",
       "    .dataframe tbody tr th {\n",
       "        vertical-align: top;\n",
       "    }\n",
       "\n",
       "    .dataframe thead th {\n",
       "        text-align: right;\n",
       "    }\n",
       "</style>\n",
       "<table border=\"1\" class=\"dataframe\">\n",
       "  <thead>\n",
       "    <tr style=\"text-align: right;\">\n",
       "      <th></th>\n",
       "      <th>Sigma_pos</th>\n",
       "      <th>Mu_pos</th>\n",
       "      <th>Sigma_neg</th>\n",
       "      <th>Mu_neg</th>\n",
       "      <th>Category</th>\n",
       "    </tr>\n",
       "  </thead>\n",
       "  <tbody>\n",
       "    <tr>\n",
       "      <th>Afghanistan</th>\n",
       "      <td>0.008865</td>\n",
       "      <td>0.031679</td>\n",
       "      <td>0.033805</td>\n",
       "      <td>0.810227</td>\n",
       "      <td>1</td>\n",
       "    </tr>\n",
       "    <tr>\n",
       "      <th>Albania</th>\n",
       "      <td>0.039548</td>\n",
       "      <td>0.345125</td>\n",
       "      <td>0.032728</td>\n",
       "      <td>0.299891</td>\n",
       "      <td>0</td>\n",
       "    </tr>\n",
       "    <tr>\n",
       "      <th>Algeria</th>\n",
       "      <td>0.053011</td>\n",
       "      <td>0.216271</td>\n",
       "      <td>0.049930</td>\n",
       "      <td>0.461226</td>\n",
       "      <td>3</td>\n",
       "    </tr>\n",
       "    <tr>\n",
       "      <th>Angola</th>\n",
       "      <td>0.015680</td>\n",
       "      <td>0.061109</td>\n",
       "      <td>0.047115</td>\n",
       "      <td>0.706921</td>\n",
       "      <td>1</td>\n",
       "    </tr>\n",
       "    <tr>\n",
       "      <th>Argentina</th>\n",
       "      <td>0.055498</td>\n",
       "      <td>0.389289</td>\n",
       "      <td>0.043640</td>\n",
       "      <td>0.271767</td>\n",
       "      <td>0</td>\n",
       "    </tr>\n",
       "    <tr>\n",
       "      <th>...</th>\n",
       "      <td>...</td>\n",
       "      <td>...</td>\n",
       "      <td>...</td>\n",
       "      <td>...</td>\n",
       "      <td>...</td>\n",
       "    </tr>\n",
       "    <tr>\n",
       "      <th>Venezuela</th>\n",
       "      <td>0.044317</td>\n",
       "      <td>0.147485</td>\n",
       "      <td>0.069324</td>\n",
       "      <td>0.628196</td>\n",
       "      <td>1</td>\n",
       "    </tr>\n",
       "    <tr>\n",
       "      <th>Vietnam</th>\n",
       "      <td>0.046215</td>\n",
       "      <td>0.360087</td>\n",
       "      <td>0.041563</td>\n",
       "      <td>0.311455</td>\n",
       "      <td>0</td>\n",
       "    </tr>\n",
       "    <tr>\n",
       "      <th>Yemen</th>\n",
       "      <td>0.009463</td>\n",
       "      <td>0.022501</td>\n",
       "      <td>0.026918</td>\n",
       "      <td>0.829336</td>\n",
       "      <td>1</td>\n",
       "    </tr>\n",
       "    <tr>\n",
       "      <th>Zambia</th>\n",
       "      <td>0.030037</td>\n",
       "      <td>0.177306</td>\n",
       "      <td>0.069011</td>\n",
       "      <td>0.520386</td>\n",
       "      <td>3</td>\n",
       "    </tr>\n",
       "    <tr>\n",
       "      <th>Zimbabwe</th>\n",
       "      <td>0.021107</td>\n",
       "      <td>0.093365</td>\n",
       "      <td>0.034248</td>\n",
       "      <td>0.636867</td>\n",
       "      <td>1</td>\n",
       "    </tr>\n",
       "  </tbody>\n",
       "</table>\n",
       "<p>167 rows × 5 columns</p>\n",
       "</div>"
      ],
      "text/plain": [
       "             Sigma_pos    Mu_pos  Sigma_neg    Mu_neg  Category\n",
       "Afghanistan   0.008865  0.031679   0.033805  0.810227         1\n",
       "Albania       0.039548  0.345125   0.032728  0.299891         0\n",
       "Algeria       0.053011  0.216271   0.049930  0.461226         3\n",
       "Angola        0.015680  0.061109   0.047115  0.706921         1\n",
       "Argentina     0.055498  0.389289   0.043640  0.271767         0\n",
       "...                ...       ...        ...       ...       ...\n",
       "Venezuela     0.044317  0.147485   0.069324  0.628196         1\n",
       "Vietnam       0.046215  0.360087   0.041563  0.311455         0\n",
       "Yemen         0.009463  0.022501   0.026918  0.829336         1\n",
       "Zambia        0.030037  0.177306   0.069011  0.520386         3\n",
       "Zimbabwe      0.021107  0.093365   0.034248  0.636867         1\n",
       "\n",
       "[167 rows x 5 columns]"
      ]
     },
     "execution_count": 75,
     "metadata": {},
     "output_type": "execute_result"
    }
   ],
   "source": [
    "# Possívei ideia de usar KMeans antes da otimização\n",
    "\n",
    "from sklearn.cluster import KMeans\n",
    "kmeans = KMeans(n_clusters=5, random_state=0).fit(Sigma_Mu_df)\n",
    "kmeans.labels_\n",
    "\n",
    "Sigma_Mu_df.assign(Category = kmeans.labels_)\n",
    "\n",
    "Sigma_Mu_df_clusters = Sigma_Mu_df.assign(Category = kmeans.labels_)\n",
    "Sigma_Mu_df_clusters"
   ]
  },
  {
   "cell_type": "code",
   "execution_count": 76,
   "metadata": {},
   "outputs": [],
   "source": [
    "Sigma_Mu_df_clusters.to_excel(\"Clusters_PosFlow+NegFlow.xlsx\")"
   ]
  },
  {
   "cell_type": "code",
   "execution_count": 77,
   "metadata": {},
   "outputs": [
    {
     "data": {
      "text/plain": [
       "array([[0.04623182, 0.34882482, 0.04346122, 0.32228575],\n",
       "       [0.02194609, 0.08092113, 0.05190991, 0.69510486],\n",
       "       [0.03244803, 0.76120137, 0.01126569, 0.02961565],\n",
       "       [0.03543764, 0.20250259, 0.05586963, 0.49803201],\n",
       "       [0.04652838, 0.5517511 , 0.02766839, 0.15252439]])"
      ]
     },
     "execution_count": 77,
     "metadata": {},
     "output_type": "execute_result"
    }
   ],
   "source": [
    "A = kmeans.cluster_centers_\n",
    "A"
   ]
  },
  {
   "cell_type": "code",
   "execution_count": 78,
   "metadata": {},
   "outputs": [
    {
     "data": {
      "text/html": [
       "<div>\n",
       "<style scoped>\n",
       "    .dataframe tbody tr th:only-of-type {\n",
       "        vertical-align: middle;\n",
       "    }\n",
       "\n",
       "    .dataframe tbody tr th {\n",
       "        vertical-align: top;\n",
       "    }\n",
       "\n",
       "    .dataframe thead th {\n",
       "        text-align: right;\n",
       "    }\n",
       "</style>\n",
       "<table border=\"1\" class=\"dataframe\">\n",
       "  <thead>\n",
       "    <tr style=\"text-align: right;\">\n",
       "      <th></th>\n",
       "      <th>0</th>\n",
       "      <th>1</th>\n",
       "      <th>2</th>\n",
       "      <th>3</th>\n",
       "    </tr>\n",
       "  </thead>\n",
       "  <tbody>\n",
       "    <tr>\n",
       "      <th>0</th>\n",
       "      <td>0.046232</td>\n",
       "      <td>0.348825</td>\n",
       "      <td>0.043461</td>\n",
       "      <td>0.322286</td>\n",
       "    </tr>\n",
       "    <tr>\n",
       "      <th>1</th>\n",
       "      <td>0.021946</td>\n",
       "      <td>0.080921</td>\n",
       "      <td>0.051910</td>\n",
       "      <td>0.695105</td>\n",
       "    </tr>\n",
       "    <tr>\n",
       "      <th>2</th>\n",
       "      <td>0.032448</td>\n",
       "      <td>0.761201</td>\n",
       "      <td>0.011266</td>\n",
       "      <td>0.029616</td>\n",
       "    </tr>\n",
       "    <tr>\n",
       "      <th>3</th>\n",
       "      <td>0.035438</td>\n",
       "      <td>0.202503</td>\n",
       "      <td>0.055870</td>\n",
       "      <td>0.498032</td>\n",
       "    </tr>\n",
       "    <tr>\n",
       "      <th>4</th>\n",
       "      <td>0.046528</td>\n",
       "      <td>0.551751</td>\n",
       "      <td>0.027668</td>\n",
       "      <td>0.152524</td>\n",
       "    </tr>\n",
       "  </tbody>\n",
       "</table>\n",
       "</div>"
      ],
      "text/plain": [
       "          0         1         2         3\n",
       "0  0.046232  0.348825  0.043461  0.322286\n",
       "1  0.021946  0.080921  0.051910  0.695105\n",
       "2  0.032448  0.761201  0.011266  0.029616\n",
       "3  0.035438  0.202503  0.055870  0.498032\n",
       "4  0.046528  0.551751  0.027668  0.152524"
      ]
     },
     "execution_count": 78,
     "metadata": {},
     "output_type": "execute_result"
    }
   ],
   "source": [
    "A_df = pd.DataFrame(A)\n",
    "A_df"
   ]
  },
  {
   "cell_type": "code",
   "execution_count": 79,
   "metadata": {},
   "outputs": [],
   "source": [
    "df =A_df.copy()"
   ]
  },
  {
   "cell_type": "code",
   "execution_count": 80,
   "metadata": {},
   "outputs": [
    {
     "data": {
      "text/html": [
       "<div>\n",
       "<style scoped>\n",
       "    .dataframe tbody tr th:only-of-type {\n",
       "        vertical-align: middle;\n",
       "    }\n",
       "\n",
       "    .dataframe tbody tr th {\n",
       "        vertical-align: top;\n",
       "    }\n",
       "\n",
       "    .dataframe thead th {\n",
       "        text-align: right;\n",
       "    }\n",
       "</style>\n",
       "<table border=\"1\" class=\"dataframe\">\n",
       "  <thead>\n",
       "    <tr style=\"text-align: right;\">\n",
       "      <th></th>\n",
       "      <th>0</th>\n",
       "      <th>1</th>\n",
       "      <th>2</th>\n",
       "      <th>3</th>\n",
       "    </tr>\n",
       "  </thead>\n",
       "  <tbody>\n",
       "    <tr>\n",
       "      <th>0</th>\n",
       "      <td>0.046232</td>\n",
       "      <td>0.348825</td>\n",
       "      <td>0.043461</td>\n",
       "      <td>0.322286</td>\n",
       "    </tr>\n",
       "    <tr>\n",
       "      <th>1</th>\n",
       "      <td>0.021946</td>\n",
       "      <td>0.080921</td>\n",
       "      <td>0.051910</td>\n",
       "      <td>0.695105</td>\n",
       "    </tr>\n",
       "    <tr>\n",
       "      <th>2</th>\n",
       "      <td>0.032448</td>\n",
       "      <td>0.761201</td>\n",
       "      <td>0.011266</td>\n",
       "      <td>0.029616</td>\n",
       "    </tr>\n",
       "    <tr>\n",
       "      <th>3</th>\n",
       "      <td>0.035438</td>\n",
       "      <td>0.202503</td>\n",
       "      <td>0.055870</td>\n",
       "      <td>0.498032</td>\n",
       "    </tr>\n",
       "    <tr>\n",
       "      <th>4</th>\n",
       "      <td>0.046528</td>\n",
       "      <td>0.551751</td>\n",
       "      <td>0.027668</td>\n",
       "      <td>0.152524</td>\n",
       "    </tr>\n",
       "  </tbody>\n",
       "</table>\n",
       "</div>"
      ],
      "text/plain": [
       "          0         1         2         3\n",
       "0  0.046232  0.348825  0.043461  0.322286\n",
       "1  0.021946  0.080921  0.051910  0.695105\n",
       "2  0.032448  0.761201  0.011266  0.029616\n",
       "3  0.035438  0.202503  0.055870  0.498032\n",
       "4  0.046528  0.551751  0.027668  0.152524"
      ]
     },
     "execution_count": 80,
     "metadata": {},
     "output_type": "execute_result"
    }
   ],
   "source": [
    "df"
   ]
  },
  {
   "cell_type": "code",
   "execution_count": 81,
   "metadata": {},
   "outputs": [
    {
     "name": "stdout",
     "output_type": "stream",
     "text": [
      "PKF_1: [1, 2]\n",
      "PKF_2: [0, 3, 4]\n"
     ]
    }
   ],
   "source": [
    "df =A_df.copy()\n",
    "PKF=[]\n",
    "count=0\n",
    "while df.shape[0]>0:\n",
    "    PKF.append([])\n",
    "    for idx in df.index:\n",
    "        comp_df = df.copy()\n",
    "        comp_df.drop(index = idx)\n",
    "        if any([any([\n",
    "                ((df.loc[idx][0] > comp_df.iloc[i,0]) and (df.loc[idx][1] < comp_df.iloc[i,1])), # loose in both dimensions\n",
    "                ((df.loc[idx][0] > comp_df.iloc[i,0]) and (df.loc[idx][1] == comp_df.iloc[i,1])), # loose in first dimension and drow in second\n",
    "                ((df.loc[idx][0] == comp_df.iloc[i,0]) and (df.loc[idx][1] < comp_df.iloc[i,1])) # loose in the second dimension \n",
    "                    ]) for i in range (comp_df.shape[0])]\n",
    "                ) == False:\n",
    "            PKF[count].append(idx)\n",
    "    \n",
    "    if len(PKF[count]) == 0:\n",
    "        PKF[count].append(df.index)\n",
    "        break\n",
    "    else:\n",
    "        df = df.drop(index=PKF[count])\n",
    "        print(f'PKF_{str(count+1)}: {PKF[count]}')\n",
    "        count+=1"
   ]
  },
  {
   "cell_type": "code",
   "execution_count": 82,
   "metadata": {},
   "outputs": [
    {
     "name": "stdout",
     "output_type": "stream",
     "text": [
      "alternative 1, fronteira 1: resolvido.\n",
      "alternative 1, fronteira 2: resolvido.\n",
      "alternative 2, fronteira 1: resolvido.\n",
      "alternative 2, fronteira 2: resolvido.\n",
      "alternative 3, fronteira 1: resolvido.\n",
      "alternative 3, fronteira 2: resolvido.\n",
      "alternative 4, fronteira 1: resolvido.\n",
      "alternative 4, fronteira 2: resolvido.\n",
      "alternative 5, fronteira 1: resolvido.\n",
      "alternative 5, fronteira 2: resolvido.\n"
     ]
    }
   ],
   "source": [
    "from PROMETHEE import optimize_PROM1_original, optimize_PROM1_newconstraint\n",
    "\n",
    "m = A_df.shape[0] # number of alternatives\n",
    "m_f = len(PKF) # number of frontiers\n",
    "local_ef = np.zeros(shape = (A_df.shape[0], len(PKF)))\n",
    "local_ef_new = np.zeros(shape = (A_df.shape[0], len(PKF)))\n",
    "\n",
    "for unit in range (m):\n",
    "    for fr in range (m_f):\n",
    "        unit_sigmamu = np.array([A_df.iloc[unit]]) # get the alternative unit\n",
    "        \n",
    "        for k in range(fr, m_f):\n",
    "            for l in range(len(PKF[k])):\n",
    "                Fr_list.append(PKF[k][l])\n",
    "        Fr_sigmamu = np.array (A_df.loc[PKF[fr]]) # get alternatives within frontier fr or a dominated one\n",
    "        \n",
    "        M, resultado = optimize_PROM1_original(unit_sigmamu, Fr_sigmamu)\n",
    "        local_ef[unit, fr] = M.obj()\n",
    "\n",
    "        M_new, resultado_new = optimize_PROM1_newconstraint(unit_sigmamu, Fr_sigmamu)\n",
    "        local_ef_new[unit, fr] = M_new.obj()\n",
    "        \n",
    "        print(f'alternative {unit+1}, fronteira {fr + 1}: resolvido.')\n",
    "        \n",
    "        #print(f'local_ef = {local_ef[unit, fr]}')\n"
   ]
  },
  {
   "cell_type": "code",
   "execution_count": 83,
   "metadata": {},
   "outputs": [
    {
     "data": {
      "text/plain": [
       "Global Efficiency    0.135073\n",
       "Position             2.000000\n",
       "Name: 1, dtype: float64"
      ]
     },
     "execution_count": 83,
     "metadata": {},
     "output_type": "execute_result"
    }
   ],
   "source": [
    "global_ef = np.sum(local_ef, axis = 1)\n",
    "results = pd.DataFrame({\"Global Efficiency\": global_ef}, index = A_df.index).sort_values(\"Global Efficiency\", ascending = False)\n",
    "results = results.assign(Position = [i+1 for i in range(results.shape[0])])\n",
    "results.loc[1]"
   ]
  },
  {
   "cell_type": "code",
   "execution_count": 84,
   "metadata": {},
   "outputs": [],
   "source": [
    "#global_ef_new = np.sum(local_ef_new, axis = 1)\n",
    "#results_new = pd.DataFrame({\"Global Efficiency\": global_ef_new}, index = Sigma_Mu_df.index).sort_values(\"Global Efficiency\", ascending = False)\n",
    "#results_new = results_new.assign(Position = [i+1 for i in range(results.shape[0])])\n",
    "#results_new.loc[\"Yemen\"]"
   ]
  },
  {
   "cell_type": "code",
   "execution_count": null,
   "metadata": {},
   "outputs": [],
   "source": []
  }
 ],
 "metadata": {
  "kernelspec": {
   "display_name": "Python 3 (ipykernel)",
   "language": "python",
   "name": "python3"
  },
  "language_info": {
   "codemirror_mode": {
    "name": "ipython",
    "version": 3
   },
   "file_extension": ".py",
   "mimetype": "text/x-python",
   "name": "python",
   "nbconvert_exporter": "python",
   "pygments_lexer": "ipython3",
   "version": "3.9.12"
  },
  "vscode": {
   "interpreter": {
    "hash": "e4cce46d6be9934fbd27f9ca0432556941ea5bdf741d4f4d64c6cd7f8dfa8fba"
   }
  }
 },
 "nbformat": 4,
 "nbformat_minor": 2
}
