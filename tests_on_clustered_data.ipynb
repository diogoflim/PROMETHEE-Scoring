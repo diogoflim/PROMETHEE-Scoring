{
 "cells": [
  {
   "cell_type": "code",
   "execution_count": 13,
   "metadata": {},
   "outputs": [],
   "source": [
    "import numpy as np\n",
    "from sklearn.datasets import make_blobs\n",
    "import pandas as pd\n",
    "import matplotlib.pyplot as plt\n",
    "\n",
    "%load_ext autoreload\n",
    "%autoreload 2\n",
    "\n",
    "from PROMETHEE import PROMETHEE_2"
   ]
  },
  {
   "cell_type": "code",
   "execution_count": 14,
   "metadata": {},
   "outputs": [],
   "source": [
    "centers_ = [(5, 5, 5, 5, 5), (10, 10, 10, 10, 10), (15, 15,15,15,15), (20, 20,20,20,20)]\n",
    "\n",
    "X, y = make_blobs(n_samples=[1, 5, 5, 4], centers=centers_, n_features=5, random_state=0)"
   ]
  },
  {
   "cell_type": "code",
   "execution_count": 15,
   "metadata": {},
   "outputs": [
    {
     "data": {
      "text/plain": [
       "array([[14.02272212, 15.95008842, 14.84864279, 14.89678115, 15.4105985 ],\n",
       "       [30.15634897, 31.23029068, 31.20237985, 29.61267318, 29.69769725],\n",
       "       [12.44701018, 15.6536186 , 15.8644362 , 14.25783498, 17.26975462],\n",
       "       [50.42833187, 50.06651722, 50.3024719 , 49.36567791, 49.63725883],\n",
       "       [15.14404357, 16.45427351, 15.76103773, 15.12167502, 15.44386323],\n",
       "       [50.72909056, 50.12898291, 51.13940068, 48.76517418, 50.40234164],\n",
       "       [49.59821906, 48.36980165, 50.46278226, 49.09270164, 50.0519454 ],\n",
       "       [13.54563433, 15.04575852, 14.81281615, 16.53277921, 16.46935877],\n",
       "       [29.5619257 , 28.74720464, 30.77749036, 28.38610215, 29.78725972],\n",
       "       [28.95144703, 28.57998206, 28.29372981, 31.9507754 , 29.49034782],\n",
       "       [49.32753955, 49.64044684, 49.18685372, 48.2737174 , 50.17742614],\n",
       "       [29.10453344, 30.3869025 , 29.48919486, 28.81936782, 29.97181777],\n",
       "       [15.33367433, 16.49407907, 14.79484174, 15.3130677 , 14.14590426],\n",
       "       [30.15494743, 30.37816252, 29.11221425, 28.01920353, 29.65208785],\n",
       "       [ 6.76405235,  5.40015721,  5.97873798,  7.2408932 ,  6.86755799]])"
      ]
     },
     "execution_count": 15,
     "metadata": {},
     "output_type": "execute_result"
    }
   ],
   "source": [
    "X"
   ]
  },
  {
   "cell_type": "code",
   "execution_count": 16,
   "metadata": {},
   "outputs": [
    {
     "name": "stdout",
     "output_type": "stream",
     "text": [
      "simulation 1 completed\n",
      "simulation 2 completed\n",
      "simulation 3 completed\n",
      "simulation 4 completed\n",
      "simulation 5 completed\n",
      "simulation 6 completed\n",
      "simulation 7 completed\n",
      "simulation 8 completed\n",
      "simulation 9 completed\n",
      "simulation 10 completed\n",
      "simulation 11 completed\n",
      "simulation 12 completed\n",
      "simulation 13 completed\n",
      "simulation 14 completed\n",
      "simulation 15 completed\n",
      "simulation 16 completed\n",
      "simulation 17 completed\n",
      "simulation 18 completed\n",
      "simulation 19 completed\n",
      "simulation 20 completed\n",
      "simulation 21 completed\n",
      "simulation 22 completed\n",
      "simulation 23 completed\n",
      "simulation 24 completed\n",
      "simulation 25 completed\n",
      "simulation 26 completed\n",
      "simulation 27 completed\n",
      "simulation 28 completed\n",
      "simulation 29 completed\n",
      "simulation 30 completed\n"
     ]
    }
   ],
   "source": [
    "m, n = X.shape\n",
    "\n",
    "n_simulations = 30\n",
    "\n",
    "W = np.zeros(shape = (n, n_simulations))\n",
    "P = np.zeros(shape = (n, n_simulations))\n",
    "Q = np.zeros(shape = (n, n_simulations))\n",
    "\n",
    "Net_Flows = np.zeros(shape = (m, n_simulations))\n",
    "Pos_Flows = np.zeros(shape = (m, n_simulations))\n",
    "Neg_Flows = np.zeros(shape = (m, n_simulations))\n",
    "results = [[] for s in range (n_simulations)]\n",
    "\n",
    "# Usaremos sempre a função de preferência do tipo 5\n",
    "s_curve = [0 for j in range (n)] \n",
    "pref = [5 for j in range (n)]\n",
    "\n",
    "for s in range (n_simulations):\n",
    "    W [:,s] = np.random.dirichlet(np.ones(n),size=1).reshape(n) # weights\n",
    "    Q [:,s] = np.random.uniform (2,6, n)\n",
    "    P [:,s] = np.random.uniform (8, 12, n)\n",
    "    results[s], Net_Flows[:,s], Pos_Flows[:,s], Neg_Flows[:,s] = PROMETHEE_2 (X, Q[:,s], P[:,s], s_curve, W[:,s], pref)\n",
    "    print (f'simulation {s+1} completed')"
   ]
  },
  {
   "cell_type": "code",
   "execution_count": 18,
   "metadata": {},
   "outputs": [
    {
     "data": {
      "text/html": [
       "<div>\n",
       "<style scoped>\n",
       "    .dataframe tbody tr th:only-of-type {\n",
       "        vertical-align: middle;\n",
       "    }\n",
       "\n",
       "    .dataframe tbody tr th {\n",
       "        vertical-align: top;\n",
       "    }\n",
       "\n",
       "    .dataframe thead th {\n",
       "        text-align: right;\n",
       "    }\n",
       "</style>\n",
       "<table border=\"1\" class=\"dataframe\">\n",
       "  <thead>\n",
       "    <tr style=\"text-align: right;\">\n",
       "      <th></th>\n",
       "      <th>Sigma</th>\n",
       "      <th>Mu</th>\n",
       "    </tr>\n",
       "  </thead>\n",
       "  <tbody>\n",
       "    <tr>\n",
       "      <th>a_1</th>\n",
       "      <td>6.061549e-03</td>\n",
       "      <td>-0.591670</td>\n",
       "    </tr>\n",
       "    <tr>\n",
       "      <th>a_2</th>\n",
       "      <td>1.102850e-03</td>\n",
       "      <td>0.143287</td>\n",
       "    </tr>\n",
       "    <tr>\n",
       "      <th>a_3</th>\n",
       "      <td>8.151612e-03</td>\n",
       "      <td>-0.592278</td>\n",
       "    </tr>\n",
       "    <tr>\n",
       "      <th>a_4</th>\n",
       "      <td>3.185650e-16</td>\n",
       "      <td>0.785714</td>\n",
       "    </tr>\n",
       "    <tr>\n",
       "      <th>a_5</th>\n",
       "      <td>5.846466e-03</td>\n",
       "      <td>-0.586432</td>\n",
       "    </tr>\n",
       "    <tr>\n",
       "      <th>a_6</th>\n",
       "      <td>3.185650e-16</td>\n",
       "      <td>0.785714</td>\n",
       "    </tr>\n",
       "    <tr>\n",
       "      <th>a_7</th>\n",
       "      <td>3.185650e-16</td>\n",
       "      <td>0.785714</td>\n",
       "    </tr>\n",
       "    <tr>\n",
       "      <th>a_8</th>\n",
       "      <td>6.345133e-03</td>\n",
       "      <td>-0.587582</td>\n",
       "    </tr>\n",
       "    <tr>\n",
       "      <th>a_9</th>\n",
       "      <td>1.354163e-03</td>\n",
       "      <td>0.142113</td>\n",
       "    </tr>\n",
       "    <tr>\n",
       "      <th>a_10</th>\n",
       "      <td>4.020453e-03</td>\n",
       "      <td>0.144387</td>\n",
       "    </tr>\n",
       "    <tr>\n",
       "      <th>a_11</th>\n",
       "      <td>3.185650e-16</td>\n",
       "      <td>0.785714</td>\n",
       "    </tr>\n",
       "    <tr>\n",
       "      <th>a_12</th>\n",
       "      <td>8.729505e-04</td>\n",
       "      <td>0.142481</td>\n",
       "    </tr>\n",
       "    <tr>\n",
       "      <th>a_13</th>\n",
       "      <td>7.198904e-03</td>\n",
       "      <td>-0.591130</td>\n",
       "    </tr>\n",
       "    <tr>\n",
       "      <th>a_14</th>\n",
       "      <td>1.791277e-03</td>\n",
       "      <td>0.141955</td>\n",
       "    </tr>\n",
       "    <tr>\n",
       "      <th>a_15</th>\n",
       "      <td>2.779058e-02</td>\n",
       "      <td>-0.907988</td>\n",
       "    </tr>\n",
       "  </tbody>\n",
       "</table>\n",
       "</div>"
      ],
      "text/plain": [
       "             Sigma        Mu\n",
       "a_1   6.061549e-03 -0.591670\n",
       "a_2   1.102850e-03  0.143287\n",
       "a_3   8.151612e-03 -0.592278\n",
       "a_4   3.185650e-16  0.785714\n",
       "a_5   5.846466e-03 -0.586432\n",
       "a_6   3.185650e-16  0.785714\n",
       "a_7   3.185650e-16  0.785714\n",
       "a_8   6.345133e-03 -0.587582\n",
       "a_9   1.354163e-03  0.142113\n",
       "a_10  4.020453e-03  0.144387\n",
       "a_11  3.185650e-16  0.785714\n",
       "a_12  8.729505e-04  0.142481\n",
       "a_13  7.198904e-03 -0.591130\n",
       "a_14  1.791277e-03  0.141955\n",
       "a_15  2.779058e-02 -0.907988"
      ]
     },
     "execution_count": 18,
     "metadata": {},
     "output_type": "execute_result"
    }
   ],
   "source": [
    "mu_net = np.mean(Net_Flows, axis=1)\n",
    "sigma_net = np.std(Net_Flows, axis=1)\n",
    "\n",
    "#Construindo um DataFrame dos resultados\n",
    "Sigma_Mu_df = pd.DataFrame({\"Sigma\": sigma_net,\"Mu\": mu_net}, index= ['a_' + str(i+1) for i in range (m)])\n",
    "Sigma_Mu_df\n"
   ]
  },
  {
   "cell_type": "code",
   "execution_count": 19,
   "metadata": {},
   "outputs": [
    {
     "data": {
      "image/png": "[encoded data removed]",
      "text/plain": [
       "<Figure size 1152x864 with 1 Axes>"
      ]
     },
     "metadata": {
      "needs_background": "light"
     },
     "output_type": "display_data"
    }
   ],
   "source": [
    "from matplotlib.pyplot import cm\n",
    "fig, ax = plt.subplots()\n",
    "cmap = cm.get_cmap('Spectral')\n",
    "Sigma_Mu_df.plot('Sigma', 'Mu', kind='scatter', ax=ax, figsize = (16,12))\n",
    "for k, v in Sigma_Mu_df.iterrows():\n",
    "    ax.annotate(k, v,\n",
    "                xytext=(10,-5), textcoords='offset points',\n",
    "                family='sans-serif', fontsize=8, color='black')\n",
    "for k, v in Sigma_Mu_df.iterrows():\n",
    "    if (k=='North Korea'):\n",
    "        plt.annotate(k, v,\n",
    "                xytext=(10,-5), textcoords='offset points',\n",
    "                family='sans-serif', fontsize=8, color='red')"
   ]
  }
 ],
 "metadata": {
  "kernelspec": {
   "display_name": "base",
   "language": "python",
   "name": "python3"
  },
  "language_info": {
   "codemirror_mode": {
    "name": "ipython",
    "version": 3
   },
   "file_extension": ".py",
   "mimetype": "text/x-python",
   "name": "python",
   "nbconvert_exporter": "python",
   "pygments_lexer": "ipython3",
   "version": "3.9.7"
  },
  "orig_nbformat": 4
 },
 "nbformat": 4,
 "nbformat_minor": 2
}
